{
  "nbformat": 4,
  "nbformat_minor": 0,
  "metadata": {
    "colab": {
      "provenance": [],
      "collapsed_sections": [],
      "toc_visible": true
    },
    "kernelspec": {
      "name": "python3",
      "display_name": "Python 3"
    }
  },
  "cells": [
    {
      "cell_type": "markdown",
      "metadata": {
        "id": "sGRX270WX6wF"
      },
      "source": [
        "# Lab 8 - BCC406\n",
        "\n",
        "## REDES NEURAIS E APRENDIZAGEM EM PROFUNDIDADE\n",
        "\n",
        "## Modelos Generativos\n",
        "\n",
        "### Prof. Eduardo e Prof. Pedro\n",
        "\n",
        "Objetivos:\n",
        "\n",
        "- Predição de série temporal com redes recorrentes (RNN)\n",
        "\n",
        "Data da entrega : 21/10\n",
        "\n",
        "- Complete o código (marcado com ToDo) e quando requisitado, escreva textos diretamente nos notebooks. Onde tiver *None*, substitua pelo seu código.\n",
        "- Execute todo notebook e salve tudo em um PDF **nomeado** como \"NomeSobrenome-LabX.pdf\"\n",
        "- Envie o PDF via google [FORM](https://forms.gle/zX7Va67EVzdXarbLA)\n",
        "\n",
        "Este notebook é baseado em tensorflow e Keras."
      ]
    },
    {
      "cell_type": "markdown",
      "metadata": {
        "id": "-9Lm6lWAlEjq"
      },
      "source": [
        "# Predição de preço de criptomoedas com redes recorrentes"
      ]
    },
    {
      "cell_type": "markdown",
      "source": [
        "Informação sobre o Bitcoin : https://www.kaggle.com/ibadia/bitcoin-101-bitcoins-and-detailed-insights\n",
        "\n",
        "\n",
        "O valor de uma criptomoeda, assim como um ativo financeiro do mercado de ações, pode ser configurado com uma série temporal. Aqui, consideraremos o valor ponderado do preço diário do Bitcoin para constuir nossa série. O objetivo deste estudo é predizer o próximo valor, baseado nos últimos valores da criptomoeda. Para tal, usaremos de redes recorrentes, pois as mesmas tem memória, o que é importante quando se trata de dados sequenciais.\n"
      ],
      "metadata": {
        "id": "U4ihQlYbukjn"
      }
    },
    {
      "cell_type": "markdown",
      "source": [
        "## Carregando os pacotes"
      ],
      "metadata": {
        "id": "CyeW-ERluorv"
      }
    },
    {
      "cell_type": "code",
      "metadata": {
        "id": "mmJeZzrSk2_8",
        "colab": {
          "base_uri": "https://localhost:8080/",
          "height": 17
        },
        "outputId": "7311bc72-f626-4742-8c8a-2e15024319f9"
      },
      "source": [
        "# Importa as bibliotecas necessárias\n",
        "from math import sqrt\n",
        "from numpy import concatenate\n",
        "from matplotlib import pyplot\n",
        "import pandas as pd\n",
        "from datetime import datetime\n",
        "from sklearn.preprocessing import MinMaxScaler\n",
        "from sklearn.preprocessing import LabelEncoder\n",
        "from sklearn.metrics import mean_squared_error\n",
        "import tensorflow as tf\n",
        "from tensorflow.keras.models import Sequential\n",
        "from tensorflow.keras.layers import Dense\n",
        "from tensorflow.keras.layers import LSTM\n",
        "import plotly.offline as py\n",
        "import plotly.graph_objs as go\n",
        "import numpy as np\n",
        "import seaborn as sns\n",
        "py.init_notebook_mode(connected=True)\n",
        "%matplotlib inline"
      ],
      "execution_count": 1,
      "outputs": [
        {
          "output_type": "display_data",
          "data": {
            "text/html": [
              "        <script type=\"text/javascript\">\n",
              "        window.PlotlyConfig = {MathJaxConfig: 'local'};\n",
              "        if (window.MathJax) {MathJax.Hub.Config({SVG: {font: \"STIX-Web\"}});}\n",
              "        if (typeof require !== 'undefined') {\n",
              "        require.undef(\"plotly\");\n",
              "        requirejs.config({\n",
              "            paths: {\n",
              "                'plotly': ['https://cdn.plot.ly/plotly-2.8.3.min']\n",
              "            }\n",
              "        });\n",
              "        require(['plotly'], function(Plotly) {\n",
              "            window._Plotly = Plotly;\n",
              "        });\n",
              "        }\n",
              "        </script>\n",
              "        "
            ]
          },
          "metadata": {}
        }
      ]
    },
    {
      "cell_type": "markdown",
      "metadata": {
        "id": "vj89ltEC4w4y"
      },
      "source": [
        "Vamos usar o pacote ***quandl*** para baixar diretamente dados fornecidos por uma corretora de criptomoedas (Kraken)."
      ]
    },
    {
      "cell_type": "code",
      "metadata": {
        "id": "KO9HEM5glk1x",
        "colab": {
          "base_uri": "https://localhost:8080/"
        },
        "outputId": "36d46e9b-a12a-42c3-fd25-6ac56cc31019"
      },
      "source": [
        "!pip install quandl\n"
      ],
      "execution_count": 2,
      "outputs": [
        {
          "output_type": "stream",
          "name": "stdout",
          "text": [
            "Looking in indexes: https://pypi.org/simple, https://us-python.pkg.dev/colab-wheels/public/simple/\n",
            "Collecting quandl\n",
            "  Downloading Quandl-3.7.0-py2.py3-none-any.whl (26 kB)\n",
            "Requirement already satisfied: numpy>=1.8 in /usr/local/lib/python3.7/dist-packages (from quandl) (1.21.6)\n",
            "Requirement already satisfied: more-itertools in /usr/local/lib/python3.7/dist-packages (from quandl) (8.14.0)\n",
            "Requirement already satisfied: requests>=2.7.0 in /usr/local/lib/python3.7/dist-packages (from quandl) (2.23.0)\n",
            "Requirement already satisfied: six in /usr/local/lib/python3.7/dist-packages (from quandl) (1.15.0)\n",
            "Collecting inflection>=0.3.1\n",
            "  Downloading inflection-0.5.1-py2.py3-none-any.whl (9.5 kB)\n",
            "Requirement already satisfied: python-dateutil in /usr/local/lib/python3.7/dist-packages (from quandl) (2.8.2)\n",
            "Requirement already satisfied: pandas>=0.14 in /usr/local/lib/python3.7/dist-packages (from quandl) (1.3.5)\n",
            "Requirement already satisfied: pytz>=2017.3 in /usr/local/lib/python3.7/dist-packages (from pandas>=0.14->quandl) (2022.2.1)\n",
            "Requirement already satisfied: chardet<4,>=3.0.2 in /usr/local/lib/python3.7/dist-packages (from requests>=2.7.0->quandl) (3.0.4)\n",
            "Requirement already satisfied: idna<3,>=2.5 in /usr/local/lib/python3.7/dist-packages (from requests>=2.7.0->quandl) (2.10)\n",
            "Requirement already satisfied: urllib3!=1.25.0,!=1.25.1,<1.26,>=1.21.1 in /usr/local/lib/python3.7/dist-packages (from requests>=2.7.0->quandl) (1.24.3)\n",
            "Requirement already satisfied: certifi>=2017.4.17 in /usr/local/lib/python3.7/dist-packages (from requests>=2.7.0->quandl) (2022.6.15)\n",
            "Installing collected packages: inflection, quandl\n",
            "Successfully installed inflection-0.5.1 quandl-3.7.0\n"
          ]
        }
      ]
    },
    {
      "cell_type": "markdown",
      "source": [
        "## Carregando os dados"
      ],
      "metadata": {
        "id": "rxviEuk7uv93"
      }
    },
    {
      "cell_type": "code",
      "metadata": {
        "id": "SP0eJ7_rlXUQ"
      },
      "source": [
        "# baixa os dados da exchange Kraken, até o período atual.\n",
        "import quandl\n",
        "data = quandl.get('BCHARTS/KRAKENUSD', returns='pandas')\n"
      ],
      "execution_count": 3,
      "outputs": []
    },
    {
      "cell_type": "markdown",
      "source": [
        "## Entendendo os dados"
      ],
      "metadata": {
        "id": "7-fzqtDVvQRH"
      }
    },
    {
      "cell_type": "code",
      "metadata": {
        "id": "F6GRZid1lv01",
        "colab": {
          "base_uri": "https://localhost:8080/",
          "height": 238
        },
        "outputId": "10671543-460e-44a2-9d2a-add7db8c71cb"
      },
      "source": [
        "#exibe as primeiras linahs \n",
        "data.head()"
      ],
      "execution_count": 4,
      "outputs": [
        {
          "output_type": "execute_result",
          "data": {
            "text/plain": [
              "                 Open       High        Low      Close  Volume (BTC)  \\\n",
              "Date                                                                   \n",
              "2014-01-07  874.67040  892.06753  810.00000  810.00000     15.622378   \n",
              "2014-01-08  810.00000  899.84281  788.00000  824.98287     19.182756   \n",
              "2014-01-09  825.56345  870.00000  807.42084  841.86934      8.158335   \n",
              "2014-01-10  839.99000  857.34056  817.00000  857.33056      8.024510   \n",
              "2014-01-11  858.20000  918.05471  857.16554  899.84105     18.748285   \n",
              "\n",
              "            Volume (Currency)  Weighted Price  \n",
              "Date                                           \n",
              "2014-01-07       13151.472844      841.835522  \n",
              "2014-01-08       16097.329584      839.156269  \n",
              "2014-01-09        6784.249982      831.572913  \n",
              "2014-01-10        6780.220188      844.938794  \n",
              "2014-01-11       16698.566929      890.671709  "
            ],
            "text/html": [
              "\n",
              "  <div id=\"df-359a17ad-6dcd-4094-96a5-9c07a8b9f208\">\n",
              "    <div class=\"colab-df-container\">\n",
              "      <div>\n",
              "<style scoped>\n",
              "    .dataframe tbody tr th:only-of-type {\n",
              "        vertical-align: middle;\n",
              "    }\n",
              "\n",
              "    .dataframe tbody tr th {\n",
              "        vertical-align: top;\n",
              "    }\n",
              "\n",
              "    .dataframe thead th {\n",
              "        text-align: right;\n",
              "    }\n",
              "</style>\n",
              "<table border=\"1\" class=\"dataframe\">\n",
              "  <thead>\n",
              "    <tr style=\"text-align: right;\">\n",
              "      <th></th>\n",
              "      <th>Open</th>\n",
              "      <th>High</th>\n",
              "      <th>Low</th>\n",
              "      <th>Close</th>\n",
              "      <th>Volume (BTC)</th>\n",
              "      <th>Volume (Currency)</th>\n",
              "      <th>Weighted Price</th>\n",
              "    </tr>\n",
              "    <tr>\n",
              "      <th>Date</th>\n",
              "      <th></th>\n",
              "      <th></th>\n",
              "      <th></th>\n",
              "      <th></th>\n",
              "      <th></th>\n",
              "      <th></th>\n",
              "      <th></th>\n",
              "    </tr>\n",
              "  </thead>\n",
              "  <tbody>\n",
              "    <tr>\n",
              "      <th>2014-01-07</th>\n",
              "      <td>874.67040</td>\n",
              "      <td>892.06753</td>\n",
              "      <td>810.00000</td>\n",
              "      <td>810.00000</td>\n",
              "      <td>15.622378</td>\n",
              "      <td>13151.472844</td>\n",
              "      <td>841.835522</td>\n",
              "    </tr>\n",
              "    <tr>\n",
              "      <th>2014-01-08</th>\n",
              "      <td>810.00000</td>\n",
              "      <td>899.84281</td>\n",
              "      <td>788.00000</td>\n",
              "      <td>824.98287</td>\n",
              "      <td>19.182756</td>\n",
              "      <td>16097.329584</td>\n",
              "      <td>839.156269</td>\n",
              "    </tr>\n",
              "    <tr>\n",
              "      <th>2014-01-09</th>\n",
              "      <td>825.56345</td>\n",
              "      <td>870.00000</td>\n",
              "      <td>807.42084</td>\n",
              "      <td>841.86934</td>\n",
              "      <td>8.158335</td>\n",
              "      <td>6784.249982</td>\n",
              "      <td>831.572913</td>\n",
              "    </tr>\n",
              "    <tr>\n",
              "      <th>2014-01-10</th>\n",
              "      <td>839.99000</td>\n",
              "      <td>857.34056</td>\n",
              "      <td>817.00000</td>\n",
              "      <td>857.33056</td>\n",
              "      <td>8.024510</td>\n",
              "      <td>6780.220188</td>\n",
              "      <td>844.938794</td>\n",
              "    </tr>\n",
              "    <tr>\n",
              "      <th>2014-01-11</th>\n",
              "      <td>858.20000</td>\n",
              "      <td>918.05471</td>\n",
              "      <td>857.16554</td>\n",
              "      <td>899.84105</td>\n",
              "      <td>18.748285</td>\n",
              "      <td>16698.566929</td>\n",
              "      <td>890.671709</td>\n",
              "    </tr>\n",
              "  </tbody>\n",
              "</table>\n",
              "</div>\n",
              "      <button class=\"colab-df-convert\" onclick=\"convertToInteractive('df-359a17ad-6dcd-4094-96a5-9c07a8b9f208')\"\n",
              "              title=\"Convert this dataframe to an interactive table.\"\n",
              "              style=\"display:none;\">\n",
              "        \n",
              "  <svg xmlns=\"http://www.w3.org/2000/svg\" height=\"24px\"viewBox=\"0 0 24 24\"\n",
              "       width=\"24px\">\n",
              "    <path d=\"M0 0h24v24H0V0z\" fill=\"none\"/>\n",
              "    <path d=\"M18.56 5.44l.94 2.06.94-2.06 2.06-.94-2.06-.94-.94-2.06-.94 2.06-2.06.94zm-11 1L8.5 8.5l.94-2.06 2.06-.94-2.06-.94L8.5 2.5l-.94 2.06-2.06.94zm10 10l.94 2.06.94-2.06 2.06-.94-2.06-.94-.94-2.06-.94 2.06-2.06.94z\"/><path d=\"M17.41 7.96l-1.37-1.37c-.4-.4-.92-.59-1.43-.59-.52 0-1.04.2-1.43.59L10.3 9.45l-7.72 7.72c-.78.78-.78 2.05 0 2.83L4 21.41c.39.39.9.59 1.41.59.51 0 1.02-.2 1.41-.59l7.78-7.78 2.81-2.81c.8-.78.8-2.07 0-2.86zM5.41 20L4 18.59l7.72-7.72 1.47 1.35L5.41 20z\"/>\n",
              "  </svg>\n",
              "      </button>\n",
              "      \n",
              "  <style>\n",
              "    .colab-df-container {\n",
              "      display:flex;\n",
              "      flex-wrap:wrap;\n",
              "      gap: 12px;\n",
              "    }\n",
              "\n",
              "    .colab-df-convert {\n",
              "      background-color: #E8F0FE;\n",
              "      border: none;\n",
              "      border-radius: 50%;\n",
              "      cursor: pointer;\n",
              "      display: none;\n",
              "      fill: #1967D2;\n",
              "      height: 32px;\n",
              "      padding: 0 0 0 0;\n",
              "      width: 32px;\n",
              "    }\n",
              "\n",
              "    .colab-df-convert:hover {\n",
              "      background-color: #E2EBFA;\n",
              "      box-shadow: 0px 1px 2px rgba(60, 64, 67, 0.3), 0px 1px 3px 1px rgba(60, 64, 67, 0.15);\n",
              "      fill: #174EA6;\n",
              "    }\n",
              "\n",
              "    [theme=dark] .colab-df-convert {\n",
              "      background-color: #3B4455;\n",
              "      fill: #D2E3FC;\n",
              "    }\n",
              "\n",
              "    [theme=dark] .colab-df-convert:hover {\n",
              "      background-color: #434B5C;\n",
              "      box-shadow: 0px 1px 3px 1px rgba(0, 0, 0, 0.15);\n",
              "      filter: drop-shadow(0px 1px 2px rgba(0, 0, 0, 0.3));\n",
              "      fill: #FFFFFF;\n",
              "    }\n",
              "  </style>\n",
              "\n",
              "      <script>\n",
              "        const buttonEl =\n",
              "          document.querySelector('#df-359a17ad-6dcd-4094-96a5-9c07a8b9f208 button.colab-df-convert');\n",
              "        buttonEl.style.display =\n",
              "          google.colab.kernel.accessAllowed ? 'block' : 'none';\n",
              "\n",
              "        async function convertToInteractive(key) {\n",
              "          const element = document.querySelector('#df-359a17ad-6dcd-4094-96a5-9c07a8b9f208');\n",
              "          const dataTable =\n",
              "            await google.colab.kernel.invokeFunction('convertToInteractive',\n",
              "                                                     [key], {});\n",
              "          if (!dataTable) return;\n",
              "\n",
              "          const docLinkHtml = 'Like what you see? Visit the ' +\n",
              "            '<a target=\"_blank\" href=https://colab.research.google.com/notebooks/data_table.ipynb>data table notebook</a>'\n",
              "            + ' to learn more about interactive tables.';\n",
              "          element.innerHTML = '';\n",
              "          dataTable['output_type'] = 'display_data';\n",
              "          await google.colab.output.renderOutput(dataTable, element);\n",
              "          const docLink = document.createElement('div');\n",
              "          docLink.innerHTML = docLinkHtml;\n",
              "          element.appendChild(docLink);\n",
              "        }\n",
              "      </script>\n",
              "    </div>\n",
              "  </div>\n",
              "  "
            ]
          },
          "metadata": {},
          "execution_count": 4
        }
      ]
    },
    {
      "cell_type": "code",
      "metadata": {
        "id": "ny91LoLNl-lu",
        "colab": {
          "base_uri": "https://localhost:8080/"
        },
        "outputId": "b543814a-a2d5-488d-8d74-69782fe0e06e"
      },
      "source": [
        "data.info()"
      ],
      "execution_count": 5,
      "outputs": [
        {
          "output_type": "stream",
          "name": "stdout",
          "text": [
            "<class 'pandas.core.frame.DataFrame'>\n",
            "DatetimeIndex: 2713 entries, 2014-01-07 to 2021-06-20\n",
            "Data columns (total 7 columns):\n",
            " #   Column             Non-Null Count  Dtype  \n",
            "---  ------             --------------  -----  \n",
            " 0   Open               2713 non-null   float64\n",
            " 1   High               2713 non-null   float64\n",
            " 2   Low                2713 non-null   float64\n",
            " 3   Close              2713 non-null   float64\n",
            " 4   Volume (BTC)       2713 non-null   float64\n",
            " 5   Volume (Currency)  2713 non-null   float64\n",
            " 6   Weighted Price     2713 non-null   float64\n",
            "dtypes: float64(7)\n",
            "memory usage: 169.6 KB\n"
          ]
        }
      ]
    },
    {
      "cell_type": "code",
      "metadata": {
        "id": "Hsuy1Q2NmCOG",
        "colab": {
          "base_uri": "https://localhost:8080/",
          "height": 238
        },
        "outputId": "963913d3-e7aa-4921-b831-e2952b811c60"
      },
      "source": [
        "# verifica os últimos dados. Repare na data. Deve ter dados atuais (Jun / 2021).\n",
        "data.tail()"
      ],
      "execution_count": 6,
      "outputs": [
        {
          "output_type": "execute_result",
          "data": {
            "text/plain": [
              "               Open     High      Low    Close  Volume (BTC)  \\\n",
              "Date                                                           \n",
              "2021-06-16  40167.3  40493.0  38120.0  38337.1   6487.206888   \n",
              "2021-06-17  38337.1  39561.4  37405.0  38078.2   6003.220618   \n",
              "2021-06-18  38078.2  38193.1  35126.0  35824.0   6558.468890   \n",
              "2021-06-19  35824.0  36450.0  34901.0  35490.5   4485.076656   \n",
              "2021-06-20  35484.2  36112.2  33370.0  35668.7   6229.513564   \n",
              "\n",
              "            Volume (Currency)  Weighted Price  \n",
              "Date                                           \n",
              "2021-06-16       2.539206e+08    39141.737747  \n",
              "2021-06-17       2.307246e+08    38433.468618  \n",
              "2021-06-18       2.409217e+08    36734.445103  \n",
              "2021-06-19       1.603145e+08    35743.971502  \n",
              "2021-06-20       2.168125e+08    34804.086189  "
            ],
            "text/html": [
              "\n",
              "  <div id=\"df-00548c0f-a7ed-443b-b015-75993be172e4\">\n",
              "    <div class=\"colab-df-container\">\n",
              "      <div>\n",
              "<style scoped>\n",
              "    .dataframe tbody tr th:only-of-type {\n",
              "        vertical-align: middle;\n",
              "    }\n",
              "\n",
              "    .dataframe tbody tr th {\n",
              "        vertical-align: top;\n",
              "    }\n",
              "\n",
              "    .dataframe thead th {\n",
              "        text-align: right;\n",
              "    }\n",
              "</style>\n",
              "<table border=\"1\" class=\"dataframe\">\n",
              "  <thead>\n",
              "    <tr style=\"text-align: right;\">\n",
              "      <th></th>\n",
              "      <th>Open</th>\n",
              "      <th>High</th>\n",
              "      <th>Low</th>\n",
              "      <th>Close</th>\n",
              "      <th>Volume (BTC)</th>\n",
              "      <th>Volume (Currency)</th>\n",
              "      <th>Weighted Price</th>\n",
              "    </tr>\n",
              "    <tr>\n",
              "      <th>Date</th>\n",
              "      <th></th>\n",
              "      <th></th>\n",
              "      <th></th>\n",
              "      <th></th>\n",
              "      <th></th>\n",
              "      <th></th>\n",
              "      <th></th>\n",
              "    </tr>\n",
              "  </thead>\n",
              "  <tbody>\n",
              "    <tr>\n",
              "      <th>2021-06-16</th>\n",
              "      <td>40167.3</td>\n",
              "      <td>40493.0</td>\n",
              "      <td>38120.0</td>\n",
              "      <td>38337.1</td>\n",
              "      <td>6487.206888</td>\n",
              "      <td>2.539206e+08</td>\n",
              "      <td>39141.737747</td>\n",
              "    </tr>\n",
              "    <tr>\n",
              "      <th>2021-06-17</th>\n",
              "      <td>38337.1</td>\n",
              "      <td>39561.4</td>\n",
              "      <td>37405.0</td>\n",
              "      <td>38078.2</td>\n",
              "      <td>6003.220618</td>\n",
              "      <td>2.307246e+08</td>\n",
              "      <td>38433.468618</td>\n",
              "    </tr>\n",
              "    <tr>\n",
              "      <th>2021-06-18</th>\n",
              "      <td>38078.2</td>\n",
              "      <td>38193.1</td>\n",
              "      <td>35126.0</td>\n",
              "      <td>35824.0</td>\n",
              "      <td>6558.468890</td>\n",
              "      <td>2.409217e+08</td>\n",
              "      <td>36734.445103</td>\n",
              "    </tr>\n",
              "    <tr>\n",
              "      <th>2021-06-19</th>\n",
              "      <td>35824.0</td>\n",
              "      <td>36450.0</td>\n",
              "      <td>34901.0</td>\n",
              "      <td>35490.5</td>\n",
              "      <td>4485.076656</td>\n",
              "      <td>1.603145e+08</td>\n",
              "      <td>35743.971502</td>\n",
              "    </tr>\n",
              "    <tr>\n",
              "      <th>2021-06-20</th>\n",
              "      <td>35484.2</td>\n",
              "      <td>36112.2</td>\n",
              "      <td>33370.0</td>\n",
              "      <td>35668.7</td>\n",
              "      <td>6229.513564</td>\n",
              "      <td>2.168125e+08</td>\n",
              "      <td>34804.086189</td>\n",
              "    </tr>\n",
              "  </tbody>\n",
              "</table>\n",
              "</div>\n",
              "      <button class=\"colab-df-convert\" onclick=\"convertToInteractive('df-00548c0f-a7ed-443b-b015-75993be172e4')\"\n",
              "              title=\"Convert this dataframe to an interactive table.\"\n",
              "              style=\"display:none;\">\n",
              "        \n",
              "  <svg xmlns=\"http://www.w3.org/2000/svg\" height=\"24px\"viewBox=\"0 0 24 24\"\n",
              "       width=\"24px\">\n",
              "    <path d=\"M0 0h24v24H0V0z\" fill=\"none\"/>\n",
              "    <path d=\"M18.56 5.44l.94 2.06.94-2.06 2.06-.94-2.06-.94-.94-2.06-.94 2.06-2.06.94zm-11 1L8.5 8.5l.94-2.06 2.06-.94-2.06-.94L8.5 2.5l-.94 2.06-2.06.94zm10 10l.94 2.06.94-2.06 2.06-.94-2.06-.94-.94-2.06-.94 2.06-2.06.94z\"/><path d=\"M17.41 7.96l-1.37-1.37c-.4-.4-.92-.59-1.43-.59-.52 0-1.04.2-1.43.59L10.3 9.45l-7.72 7.72c-.78.78-.78 2.05 0 2.83L4 21.41c.39.39.9.59 1.41.59.51 0 1.02-.2 1.41-.59l7.78-7.78 2.81-2.81c.8-.78.8-2.07 0-2.86zM5.41 20L4 18.59l7.72-7.72 1.47 1.35L5.41 20z\"/>\n",
              "  </svg>\n",
              "      </button>\n",
              "      \n",
              "  <style>\n",
              "    .colab-df-container {\n",
              "      display:flex;\n",
              "      flex-wrap:wrap;\n",
              "      gap: 12px;\n",
              "    }\n",
              "\n",
              "    .colab-df-convert {\n",
              "      background-color: #E8F0FE;\n",
              "      border: none;\n",
              "      border-radius: 50%;\n",
              "      cursor: pointer;\n",
              "      display: none;\n",
              "      fill: #1967D2;\n",
              "      height: 32px;\n",
              "      padding: 0 0 0 0;\n",
              "      width: 32px;\n",
              "    }\n",
              "\n",
              "    .colab-df-convert:hover {\n",
              "      background-color: #E2EBFA;\n",
              "      box-shadow: 0px 1px 2px rgba(60, 64, 67, 0.3), 0px 1px 3px 1px rgba(60, 64, 67, 0.15);\n",
              "      fill: #174EA6;\n",
              "    }\n",
              "\n",
              "    [theme=dark] .colab-df-convert {\n",
              "      background-color: #3B4455;\n",
              "      fill: #D2E3FC;\n",
              "    }\n",
              "\n",
              "    [theme=dark] .colab-df-convert:hover {\n",
              "      background-color: #434B5C;\n",
              "      box-shadow: 0px 1px 3px 1px rgba(0, 0, 0, 0.15);\n",
              "      filter: drop-shadow(0px 1px 2px rgba(0, 0, 0, 0.3));\n",
              "      fill: #FFFFFF;\n",
              "    }\n",
              "  </style>\n",
              "\n",
              "      <script>\n",
              "        const buttonEl =\n",
              "          document.querySelector('#df-00548c0f-a7ed-443b-b015-75993be172e4 button.colab-df-convert');\n",
              "        buttonEl.style.display =\n",
              "          google.colab.kernel.accessAllowed ? 'block' : 'none';\n",
              "\n",
              "        async function convertToInteractive(key) {\n",
              "          const element = document.querySelector('#df-00548c0f-a7ed-443b-b015-75993be172e4');\n",
              "          const dataTable =\n",
              "            await google.colab.kernel.invokeFunction('convertToInteractive',\n",
              "                                                     [key], {});\n",
              "          if (!dataTable) return;\n",
              "\n",
              "          const docLinkHtml = 'Like what you see? Visit the ' +\n",
              "            '<a target=\"_blank\" href=https://colab.research.google.com/notebooks/data_table.ipynb>data table notebook</a>'\n",
              "            + ' to learn more about interactive tables.';\n",
              "          element.innerHTML = '';\n",
              "          dataTable['output_type'] = 'display_data';\n",
              "          await google.colab.output.renderOutput(dataTable, element);\n",
              "          const docLink = document.createElement('div');\n",
              "          docLink.innerHTML = docLinkHtml;\n",
              "          element.appendChild(docLink);\n",
              "        }\n",
              "      </script>\n",
              "    </div>\n",
              "  </div>\n",
              "  "
            ]
          },
          "metadata": {},
          "execution_count": 6
        }
      ]
    },
    {
      "cell_type": "markdown",
      "metadata": {
        "id": "NsHTe0UQ4_cF"
      },
      "source": [
        "Repare que temos dados de abertura do pregão, fechamento, valor mais alto, valor mais baixo, volume diário do bitcoin e de todas as criptomoedas combinadas. E também, temos os preço ponderado pelos valores de compra/venda de um período, que em nosso caso é diário. Para facilitar, vamos usar o valor ponderado."
      ]
    },
    {
      "cell_type": "markdown",
      "source": [
        "## Plotando os dados"
      ],
      "metadata": {
        "id": "GDPzKSGYvgJX"
      }
    },
    {
      "cell_type": "code",
      "metadata": {
        "id": "oxnUuUj9mP-9",
        "colab": {
          "base_uri": "https://localhost:8080/",
          "height": 282
        },
        "outputId": "72e796bd-78cf-4eda-df14-b83b4055e080"
      },
      "source": [
        "# imprima os dados\n",
        "pyplot.plot(data['Weighted Price'])"
      ],
      "execution_count": 7,
      "outputs": [
        {
          "output_type": "execute_result",
          "data": {
            "text/plain": [
              "[<matplotlib.lines.Line2D at 0x7fe0d3833190>]"
            ]
          },
          "metadata": {},
          "execution_count": 7
        },
        {
          "output_type": "display_data",
          "data": {
            "text/plain": [
              "<Figure size 432x288 with 1 Axes>"
            ],
            "image/png": "[encoded data removed]"
          },
          "metadata": {
            "needs_background": "light"
          }
        }
      ]
    },
    {
      "cell_type": "markdown",
      "source": [
        "## Pré-processamento dos dados"
      ],
      "metadata": {
        "id": "uPOHWiC7vsKW"
      }
    },
    {
      "cell_type": "code",
      "metadata": {
        "id": "HiEzfI_Sm3Qu"
      },
      "source": [
        "#existem alguns pontos com valor zero (outliers), vamos trocar por NaN e depois chamar um método para preencher os valores vazios\n",
        "data['Weighted Price'].replace(0, np.nan, inplace=True)\n",
        "data['Weighted Price'].fillna(method='ffill', inplace=True)"
      ],
      "execution_count": 10,
      "outputs": []
    },
    {
      "cell_type": "code",
      "metadata": {
        "id": "nru4tq6lnFM1",
        "colab": {
          "base_uri": "https://localhost:8080/",
          "height": 282
        },
        "outputId": "754b55a2-a9d1-4ea8-f42a-71ee396eb4df"
      },
      "source": [
        "# imprima novamente e observe que não existe mais estes outliers.\n",
        "pyplot.plot(data['Weighted Price'])"
      ],
      "execution_count": 11,
      "outputs": [
        {
          "output_type": "execute_result",
          "data": {
            "text/plain": [
              "[<matplotlib.lines.Line2D at 0x7fe0d3247fd0>]"
            ]
          },
          "metadata": {},
          "execution_count": 11
        },
        {
          "output_type": "display_data",
          "data": {
            "text/plain": [
              "<Figure size 432x288 with 1 Axes>"
            ],
            "image/png": "[encoded data removed]"
          },
          "metadata": {
            "needs_background": "light"
          }
        }
      ]
    },
    {
      "cell_type": "code",
      "metadata": {
        "id": "d1SgYuOAnXrB"
      },
      "source": [
        "# vamos usar o preço ponderado como entrada para nossa rede recorrente\n",
        "# como já vimos, eh sempre bom normalizar os dados para ajudar na convergência do treinamento\n",
        "# Normaliza na faixa entre [0 e 1]\n",
        "from sklearn.preprocessing import MinMaxScaler\n",
        "values = data['Weighted Price'].values.reshape(-1,1)\n",
        "values = values.astype('float32')\n",
        "scaler = MinMaxScaler(feature_range=(0, 1))\n",
        "scaled = scaler.fit_transform(values)"
      ],
      "execution_count": 13,
      "outputs": []
    },
    {
      "cell_type": "code",
      "metadata": {
        "id": "yt0j4pWMnpxs",
        "colab": {
          "base_uri": "https://localhost:8080/"
        },
        "outputId": "9a83095d-1704-405c-f401-08570800542c"
      },
      "source": [
        "# vamos deixar 70% para treino e 30% para teste. Observe que temos mais de 6 anos de dados.\n",
        "train_size = int(len(scaled) * 0.7)\n",
        "test_size = len(scaled) - train_size\n",
        "train, test = scaled[0:train_size,:], scaled[train_size:len(scaled),:]\n",
        "print(len(train), len(test))"
      ],
      "execution_count": 15,
      "outputs": [
        {
          "output_type": "stream",
          "name": "stdout",
          "text": [
            "1899 814\n"
          ]
        }
      ]
    },
    {
      "cell_type": "code",
      "source": [
        "train.shape"
      ],
      "metadata": {
        "colab": {
          "base_uri": "https://localhost:8080/"
        },
        "id": "qU7OM9C_0zWQ",
        "outputId": "b9e5a580-3543-436c-ce84-fbb16ff41690"
      },
      "execution_count": 18,
      "outputs": [
        {
          "output_type": "execute_result",
          "data": {
            "text/plain": [
              "(1899, 1)"
            ]
          },
          "metadata": {},
          "execution_count": 18
        }
      ]
    },
    {
      "cell_type": "markdown",
      "metadata": {
        "id": "qIonwXxV5__I"
      },
      "source": [
        "Vamos considerar uma janela de um único dia para efetuar a predição. Para isso, use a função create_dataset(..) e deixe o parâmetro look_back=1. O parâmetro look_back controla a quantidade de dados que vai fazer parte da janela de entrada para a rede. Estude e entenda o que a função faz."
      ]
    },
    {
      "cell_type": "code",
      "metadata": {
        "id": "uQup1apKoPHF"
      },
      "source": [
        "#função para criar os conjuntos de dados de treino\n",
        "def create_dataset(dataset, look_back=1):\n",
        "    dataX, dataY = [], []\n",
        "    for i in range(len(dataset) - look_back):\n",
        "        a = dataset[i:(i + look_back), 0]\n",
        "        dataX.append(a)\n",
        "        dataY.append(dataset[i + look_back, 0])\n",
        "    print(len(dataY))\n",
        "    return np.array(dataX), np.array(dataY)"
      ],
      "execution_count": 20,
      "outputs": []
    },
    {
      "cell_type": "code",
      "metadata": {
        "id": "rqOLaZEAoVOo",
        "colab": {
          "base_uri": "https://localhost:8080/"
        },
        "outputId": "4658b1f1-be66-49f9-fd34-5520a6095d93"
      },
      "source": [
        "# entra com janela de 1 único valor\n",
        "look_back = 1\n",
        "trainX, trainY = create_dataset(train, look_back)\n",
        "testX, testY = create_dataset(test, look_back)"
      ],
      "execution_count": 21,
      "outputs": [
        {
          "output_type": "stream",
          "name": "stdout",
          "text": [
            "1898\n",
            "813\n"
          ]
        }
      ]
    },
    {
      "cell_type": "code",
      "metadata": {
        "id": "6j4DH9hX8ZTG",
        "colab": {
          "base_uri": "https://localhost:8080/"
        },
        "outputId": "40468f24-9430-4187-8128-c556d30babee"
      },
      "source": [
        "trainX.shape, trainY.shape"
      ],
      "execution_count": 24,
      "outputs": [
        {
          "output_type": "execute_result",
          "data": {
            "text/plain": [
              "((1898, 1), (1898,))"
            ]
          },
          "metadata": {},
          "execution_count": 24
        }
      ]
    },
    {
      "cell_type": "code",
      "source": [
        "testX.shape, testY.shape"
      ],
      "metadata": {
        "colab": {
          "base_uri": "https://localhost:8080/"
        },
        "id": "WKVhaR7G1Tqq",
        "outputId": "0bd0422a-d568-436f-9594-e62b2fa27906"
      },
      "execution_count": 27,
      "outputs": [
        {
          "output_type": "execute_result",
          "data": {
            "text/plain": [
              "((813, 1), (813,))"
            ]
          },
          "metadata": {},
          "execution_count": 27
        }
      ]
    },
    {
      "cell_type": "code",
      "metadata": {
        "id": "M4i8wrBq8lHE"
      },
      "source": [
        "# reshape para formato de entrada da rede neural (instancias, 1, 1)\n",
        "trainX = np.reshape(trainX, (trainX.shape[0], 1, trainX.shape[1]))\n",
        "testX = np.reshape(testX, (testX.shape[0], 1, testX.shape[1]))"
      ],
      "execution_count": 28,
      "outputs": []
    },
    {
      "cell_type": "code",
      "metadata": {
        "id": "-ELdyw5GUGW3",
        "colab": {
          "base_uri": "https://localhost:8080/"
        },
        "outputId": "6115621a-91af-46f8-b084-bc8872319348"
      },
      "source": [
        "trainX.shape"
      ],
      "execution_count": 29,
      "outputs": [
        {
          "output_type": "execute_result",
          "data": {
            "text/plain": [
              "(1898, 1, 1)"
            ]
          },
          "metadata": {},
          "execution_count": 29
        }
      ]
    },
    {
      "cell_type": "code",
      "source": [
        "testX.shape"
      ],
      "metadata": {
        "colab": {
          "base_uri": "https://localhost:8080/"
        },
        "id": "ddcXsUDl2CIY",
        "outputId": "e5945fc1-5118-4868-800b-599656dae509"
      },
      "execution_count": 30,
      "outputs": [
        {
          "output_type": "execute_result",
          "data": {
            "text/plain": [
              "(813, 1, 1)"
            ]
          },
          "metadata": {},
          "execution_count": 30
        }
      ]
    },
    {
      "cell_type": "markdown",
      "source": [
        "## Projeto de uma rede recorrente"
      ],
      "metadata": {
        "id": "orVRG-Ohv1lu"
      }
    },
    {
      "cell_type": "markdown",
      "metadata": {
        "id": "V2jJPPQ8Tmd8"
      },
      "source": [
        "Projete uma rede recorrente, usando alguma das camadas abaixo:\n",
        "\n",
        "```\n",
        "  tf.keras.layers.LSTM\n",
        "  tf.keras.layers.GRU\n",
        "  tf.keras.layers.RNN\n",
        "```\n",
        "\n",
        "As camadas recorrentes (LSTM, GRU, RNN) podem ser bidirecionais ou simples, por exemplo, uma camada LSTM com 32 unidades e bidirecional:\n",
        "\n",
        " ```\n",
        "  tf.keras.layers.Bidirectional(tf.keras.layers.LSTM(32))\n",
        " ```\n",
        "\n",
        "Você também pode usar dropout e camadas densas em seu modelo. \n",
        "\n",
        "Experimente três arquiteturas (rasas e profundas) e pelo menos dois algoritmos de otimização. Documente os resultados em uma tabela e anexe.\n",
        "\n",
        " Por exemplo, você pode usar um modelo raso como o abaixo:\n",
        "\n",
        "```\n",
        " np.random.seed(42)\n",
        " tf.random.set_seed(42)\n",
        "\n",
        "\n",
        " model_1 = Sequential([\n",
        "   LSTM(128,input_shape=[None,1]),\n",
        "   Dense(1)\n",
        " ])\n",
        "```\n",
        "\n",
        "Com uma função de custo **Mean Square Error** e o algoritmo de otimização **ADAM**:\n",
        "\n",
        "```\n",
        " model_1.compile(loss='mse',optimizer = 'adam')\n",
        "```\n",
        "\n",
        "Ou pode usar um modelo profundo, mais complexo como o abaixo:\n",
        "\n",
        "```\n",
        " model = Sequential()\n",
        " model.add(tf.keras.layers.Bidirectional(tf.keras.layers.LSTM(32)))\n",
        " model.add(Dense(units = 64, activation='relu'))\n",
        " model.add(Dropout(dropout_rate))\n",
        " model.add(Dense(units = 1))\n",
        "```\n",
        "\n",
        "O **erro médio quadrático** deste último modelo, com o otimizador **ADAM** e **erro médio quadrático** como função de custo deve resultar em:\n",
        "\n",
        "```\n",
        " Test Root Mean Square Error (RMSE): 380.139\n",
        "```\n",
        "\n",
        "### Observações\n",
        "1. **Seu RMSE pode ser diferente devido aos dados usados.**\n",
        "2. **Use modelos diferentes dos de exemplo!**\n",
        "\n",
        "\n",
        " "
      ]
    },
    {
      "cell_type": "markdown",
      "source": [
        "## ToDo: Projetando os seus modelos (30pt)"
      ],
      "metadata": {
        "id": "2ol8iIAKw-Gm"
      }
    },
    {
      "cell_type": "code",
      "source": [
        "# Camadas LSTM, GRU, RNN - Bidirecionais ou simples\n",
        "# 3 arquiteturas (rasas e profundas) \n",
        "# 2 algoritmos de otimização\n",
        "# Dropout e camadas densas "
      ],
      "metadata": {
        "id": "KzFyaIi-2bAw"
      },
      "execution_count": null,
      "outputs": []
    },
    {
      "cell_type": "markdown",
      "source": [
        "#### Modelo 1:"
      ],
      "metadata": {
        "id": "ekUaaAJ1xSq3"
      }
    },
    {
      "cell_type": "code",
      "metadata": {
        "id": "4bIBfls08uFR"
      },
      "source": [
        "# ToDO : projete o modelo aqui\n",
        "# Rasa\n",
        "model1 = Sequential()\n",
        "model1.add(tf.keras.layers.Bidirectional(tf.keras.layers.LSTM(128, input_shape=[None,1])))\n",
        "model1.add(Dense(units = 64, activation='relu'))\n",
        "model1.add(Dense(units = 1))\n",
        "#model1.compile(loss=tf.keras.losses.MSE,optimizer = tf.keras.optimizers.Adam())"
      ],
      "execution_count": 113,
      "outputs": []
    },
    {
      "cell_type": "markdown",
      "source": [
        "#### Modelo 2:"
      ],
      "metadata": {
        "id": "rfaWTWAWxW02"
      }
    },
    {
      "cell_type": "code",
      "source": [
        "# ToDO : projete o modelo aqui\n",
        "#Profunda\n",
        "model2 = Sequential()\n",
        "model2.add(tf.keras.layers.Bidirectional(tf.keras.layers.GRU(256, input_shape=[None,1])))\n",
        "model2.add(Dense(units = 128, activation='relu'))\n",
        "model2.add(Dense(units = 64, activation='relu'))\n",
        "model2.add(Dense(units = 32, activation='relu'))\n",
        "model2.add(Dense(units = 32, activation='relu'))\n",
        "model2.add(Dense(units = 16, activation='relu'))\n",
        "model2.add(Dense(units = 16, activation='relu'))\n",
        "model2.add(Dense(units = 1))\n",
        "#model2.compile(loss=tf.keras.losses.MSE,optimizer = tf.keras.optimizers.Adam())"
      ],
      "metadata": {
        "id": "l0PVyl3gxdlO"
      },
      "execution_count": 114,
      "outputs": []
    },
    {
      "cell_type": "markdown",
      "source": [
        "#### Modelo 3:"
      ],
      "metadata": {
        "id": "T3sVODIexewO"
      }
    },
    {
      "cell_type": "code",
      "source": [
        "# ToDO : projete o modelo aqui\n",
        "model3 = Sequential()\n",
        "model3.add(tf.keras.layers.SimpleRNN(256, input_shape=[None,1]))\n",
        "model3.add(Dense(units = 32, activation='relu'))\n",
        "model3.add(Dense(units = 32, activation='relu'))\n",
        "model3.add(Dense(units = 32, activation='relu'))\n",
        "model3.add(tf.keras.layers.Dropout(0.01))\n",
        "model3.add(Dense(units = 16, activation='relu'))\n",
        "model3.add(Dense(units = 1))\n",
        "#model3.compile(loss=tf.keras.losses.MAE,optimizer = tf.keras.optimizers.Adamax())"
      ],
      "metadata": {
        "id": "gC2jmiMRxgQo"
      },
      "execution_count": 129,
      "outputs": []
    },
    {
      "cell_type": "markdown",
      "metadata": {
        "id": "KKrF09JEUB8g"
      },
      "source": [
        "## ToDo: Função de custo (10pt)"
      ]
    },
    {
      "cell_type": "markdown",
      "source": [
        "Como é um problema de regressão, usaremos funções de custo apropriadas. Você pode usar, por exemplo, *Mean Absolute Error* (mae) ou *Mean Squared Error* (mse). "
      ],
      "metadata": {
        "id": "WHljgMFB25G1"
      }
    },
    {
      "cell_type": "markdown",
      "source": [
        "**ToDo:** Estude as funções de custo MAE e MSE. Qual das duas funções você usaria. Justifique sua escolha. Repare que vamos avaliar os modelos pela métrica *Root Mean Square Error* (RMSE)."
      ],
      "metadata": {
        "id": "2lT9nAi31KCW"
      }
    },
    {
      "cell_type": "markdown",
      "source": [
        "O MSE penaliza os erros de maior magnitude, pois eleva ao quadrado o resultado do erro, sendo muito alto em base de dados que possuem muitos outliers, diferente do MAE que utiliza valores absolutos dos erros. Nesse caso, seria melhor a utilização do MSE, pois vai acentuar mais os erros, e se o MSE for baixo então o modelo terá um bom poder preditivo."
      ],
      "metadata": {
        "id": "a5RQ7Lsn6bih"
      }
    },
    {
      "cell_type": "markdown",
      "source": [
        "## ToDo: Função para treinar o seu modelo (15pt)"
      ],
      "metadata": {
        "id": "DcGIBovf2u_E"
      }
    },
    {
      "cell_type": "code",
      "source": [
        "# Função para treinar o modelo\n",
        "def train_model(model, loss, optimizer, trainX, trainY):\n",
        "  # Compile o modelo : atenção para a função de CUSTO. Abaixo um exemplo de uso da 'mae'\n",
        "  model.compile(loss=loss, optimizer=optimizer)\n",
        "\n",
        "  #treine o modelo\n",
        "  history = model.fit(trainX, trainY, validation_data=(testX, testY), epochs=50) # todo...\n",
        "\n",
        "  # plote a curva de custo\n",
        "  pyplot.plot(history.history['loss'], label='train')\n",
        "  pyplot.plot(history.history['val_loss'], label='test')\n",
        "  pyplot.legend()\n",
        "\n",
        "  pyplot.show()\n",
        "\n"
      ],
      "metadata": {
        "id": "rOiC8R381nLl"
      },
      "execution_count": 116,
      "outputs": []
    },
    {
      "cell_type": "markdown",
      "source": [
        "## Função para avaliar o seu modelo\n"
      ],
      "metadata": {
        "id": "f9e9QELE2xgP"
      }
    },
    {
      "cell_type": "code",
      "source": [
        "# Avaliando o modelo treinado\n",
        "def evaluate_model(model, testX, testY):\n",
        "\n",
        "  # plote as curvas, valor real e valor predito no mesmo gráfico\n",
        "  yhat = model.predict(testX)\n",
        "  pyplot.title('Curva do valor real e valor predito na escala usado no treino')\n",
        "  pyplot.plot(yhat, label='predict')\n",
        "  pyplot.plot(testY, label='true')\n",
        "  pyplot.legend()\n",
        "  pyplot.show()\n",
        "  \n",
        "  # os valores foream normalizados para o treinamento. \n",
        "  # Veja que para fazer sentido, eles devem voltar para a escala original.\n",
        "  # Volta para escala em US dollar :\n",
        "  yhat_inverse = scaler.inverse_transform(yhat.reshape(-1, 1))\n",
        "  testY_inverse = scaler.inverse_transform(testY.reshape(-1, 1))\n",
        "\n",
        "  # calcula o RMSE \n",
        "  rmse = sqrt(mean_squared_error(testY_inverse, yhat_inverse))\n",
        "  print('Test RMSE: %.3f' % rmse)\n",
        "\n",
        "  # valor em US dollar\n",
        "  pyplot.title('Curva do valor real e valor predito em US dollar')\n",
        "  pyplot.plot(yhat_inverse, label='predict')\n",
        "  pyplot.plot(testY_inverse, label='actual', alpha=0.5)\n",
        "  pyplot.legend()\n",
        "  pyplot.show()"
      ],
      "metadata": {
        "id": "OVTye-DH27tf"
      },
      "execution_count": 117,
      "outputs": []
    },
    {
      "cell_type": "markdown",
      "source": [
        "## ToDo: Treinando e avaliando o seu modelo (15pt)"
      ],
      "metadata": {
        "id": "-sKp1tO-4yqr"
      }
    },
    {
      "cell_type": "markdown",
      "source": [
        "### Modelo 1"
      ],
      "metadata": {
        "id": "Xs4AVqKu44ys"
      }
    },
    {
      "cell_type": "code",
      "source": [
        "# Modelo 1\n",
        "train_model(model1, tf.keras.losses.MSE, tf.keras.optimizers.Adam(), trainX, trainY)\n",
        "evaluate_model(model1, testX, testY)"
      ],
      "metadata": {
        "id": "EIA3M8Sx427s",
        "colab": {
          "base_uri": "https://localhost:8080/",
          "height": 1000
        },
        "outputId": "52d0c4fd-4de2-4087-a0d5-00cbbc2521e8"
      },
      "execution_count": 118,
      "outputs": [
        {
          "output_type": "stream",
          "name": "stdout",
          "text": [
            "Epoch 1/50\n",
            "60/60 [==============================] - 5s 21ms/step - loss: 8.8028e-04 - val_loss: 0.0014\n",
            "Epoch 2/50\n",
            "60/60 [==============================] - 0s 6ms/step - loss: 1.5069e-05 - val_loss: 0.0033\n",
            "Epoch 3/50\n",
            "60/60 [==============================] - 0s 6ms/step - loss: 1.2750e-05 - val_loss: 0.0030\n",
            "Epoch 4/50\n",
            "60/60 [==============================] - 0s 6ms/step - loss: 1.2196e-05 - val_loss: 0.0030\n",
            "Epoch 5/50\n",
            "60/60 [==============================] - 0s 7ms/step - loss: 1.2767e-05 - val_loss: 0.0026\n",
            "Epoch 6/50\n",
            "60/60 [==============================] - 0s 6ms/step - loss: 1.6106e-05 - val_loss: 0.0028\n",
            "Epoch 7/50\n",
            "60/60 [==============================] - 0s 6ms/step - loss: 1.2993e-05 - val_loss: 0.0024\n",
            "Epoch 8/50\n",
            "60/60 [==============================] - 0s 6ms/step - loss: 1.2672e-05 - val_loss: 0.0027\n",
            "Epoch 9/50\n",
            "60/60 [==============================] - 0s 6ms/step - loss: 1.3238e-05 - val_loss: 0.0028\n",
            "Epoch 10/50\n",
            "60/60 [==============================] - 0s 6ms/step - loss: 1.5125e-05 - val_loss: 0.0018\n",
            "Epoch 11/50\n",
            "60/60 [==============================] - 0s 6ms/step - loss: 1.2420e-05 - val_loss: 0.0018\n",
            "Epoch 12/50\n",
            "60/60 [==============================] - 0s 6ms/step - loss: 1.3391e-05 - val_loss: 0.0024\n",
            "Epoch 13/50\n",
            "60/60 [==============================] - 0s 6ms/step - loss: 1.5130e-05 - val_loss: 0.0027\n",
            "Epoch 14/50\n",
            "60/60 [==============================] - 0s 6ms/step - loss: 1.3156e-05 - val_loss: 0.0021\n",
            "Epoch 15/50\n",
            "60/60 [==============================] - 0s 6ms/step - loss: 1.4394e-05 - val_loss: 0.0022\n",
            "Epoch 16/50\n",
            "60/60 [==============================] - 0s 6ms/step - loss: 1.2707e-05 - val_loss: 0.0024\n",
            "Epoch 17/50\n",
            "60/60 [==============================] - 0s 6ms/step - loss: 1.6486e-05 - val_loss: 0.0019\n",
            "Epoch 18/50\n",
            "60/60 [==============================] - 0s 6ms/step - loss: 1.4514e-05 - val_loss: 0.0022\n",
            "Epoch 19/50\n",
            "60/60 [==============================] - 0s 6ms/step - loss: 1.7467e-05 - val_loss: 0.0022\n",
            "Epoch 20/50\n",
            "60/60 [==============================] - 0s 6ms/step - loss: 1.3066e-05 - val_loss: 0.0023\n",
            "Epoch 21/50\n",
            "60/60 [==============================] - 0s 6ms/step - loss: 1.3326e-05 - val_loss: 0.0017\n",
            "Epoch 22/50\n",
            "60/60 [==============================] - 0s 6ms/step - loss: 1.2292e-05 - val_loss: 0.0024\n",
            "Epoch 23/50\n",
            "60/60 [==============================] - 0s 6ms/step - loss: 1.3104e-05 - val_loss: 0.0015\n",
            "Epoch 24/50\n",
            "60/60 [==============================] - 0s 6ms/step - loss: 1.6435e-05 - val_loss: 0.0018\n",
            "Epoch 25/50\n",
            "60/60 [==============================] - 0s 6ms/step - loss: 1.5920e-05 - val_loss: 0.0024\n",
            "Epoch 26/50\n",
            "60/60 [==============================] - 0s 6ms/step - loss: 1.3928e-05 - val_loss: 0.0020\n",
            "Epoch 27/50\n",
            "60/60 [==============================] - 0s 6ms/step - loss: 1.2736e-05 - val_loss: 0.0020\n",
            "Epoch 28/50\n",
            "60/60 [==============================] - 0s 6ms/step - loss: 1.3189e-05 - val_loss: 0.0021\n",
            "Epoch 29/50\n",
            "60/60 [==============================] - 0s 6ms/step - loss: 1.4112e-05 - val_loss: 0.0020\n",
            "Epoch 30/50\n",
            "60/60 [==============================] - 0s 6ms/step - loss: 1.3137e-05 - val_loss: 0.0018\n",
            "Epoch 31/50\n",
            "60/60 [==============================] - 0s 6ms/step - loss: 1.4350e-05 - val_loss: 0.0016\n",
            "Epoch 32/50\n",
            "60/60 [==============================] - 0s 6ms/step - loss: 1.3813e-05 - val_loss: 0.0019\n",
            "Epoch 33/50\n",
            "60/60 [==============================] - 0s 6ms/step - loss: 1.3628e-05 - val_loss: 0.0024\n",
            "Epoch 34/50\n",
            "60/60 [==============================] - 0s 6ms/step - loss: 1.4472e-05 - val_loss: 0.0018\n",
            "Epoch 35/50\n",
            "60/60 [==============================] - 0s 6ms/step - loss: 1.3123e-05 - val_loss: 0.0013\n",
            "Epoch 36/50\n",
            "60/60 [==============================] - 0s 6ms/step - loss: 1.5441e-05 - val_loss: 0.0019\n",
            "Epoch 37/50\n",
            "60/60 [==============================] - 0s 6ms/step - loss: 1.4380e-05 - val_loss: 0.0017\n",
            "Epoch 38/50\n",
            "60/60 [==============================] - 0s 6ms/step - loss: 1.3002e-05 - val_loss: 0.0014\n",
            "Epoch 39/50\n",
            "60/60 [==============================] - 0s 6ms/step - loss: 1.4163e-05 - val_loss: 0.0016\n",
            "Epoch 40/50\n",
            "60/60 [==============================] - 0s 6ms/step - loss: 2.0706e-05 - val_loss: 0.0019\n",
            "Epoch 41/50\n",
            "60/60 [==============================] - 0s 6ms/step - loss: 1.3730e-05 - val_loss: 0.0011\n",
            "Epoch 42/50\n",
            "60/60 [==============================] - 0s 6ms/step - loss: 1.1985e-05 - val_loss: 0.0010\n",
            "Epoch 43/50\n",
            "60/60 [==============================] - 0s 6ms/step - loss: 1.5056e-05 - val_loss: 0.0011\n",
            "Epoch 44/50\n",
            "60/60 [==============================] - 0s 6ms/step - loss: 1.4153e-05 - val_loss: 0.0016\n",
            "Epoch 45/50\n",
            "60/60 [==============================] - 0s 6ms/step - loss: 1.2524e-05 - val_loss: 0.0012\n",
            "Epoch 46/50\n",
            "60/60 [==============================] - 0s 6ms/step - loss: 1.2843e-05 - val_loss: 0.0013\n",
            "Epoch 47/50\n",
            "60/60 [==============================] - 0s 6ms/step - loss: 1.5070e-05 - val_loss: 0.0017\n",
            "Epoch 48/50\n",
            "60/60 [==============================] - 0s 6ms/step - loss: 1.5828e-05 - val_loss: 0.0012\n",
            "Epoch 49/50\n",
            "60/60 [==============================] - 0s 6ms/step - loss: 1.5986e-05 - val_loss: 0.0013\n",
            "Epoch 50/50\n",
            "60/60 [==============================] - 0s 6ms/step - loss: 1.3694e-05 - val_loss: 0.0014\n"
          ]
        },
        {
          "output_type": "display_data",
          "data": {
            "text/plain": [
              "<Figure size 432x288 with 1 Axes>"
            ],
            "image/png": "[encoded data removed]"
          },
          "metadata": {
            "needs_background": "light"
          }
        },
        {
          "output_type": "display_data",
          "data": {
            "text/plain": [
              "<Figure size 432x288 with 1 Axes>"
            ],
            "image/png": "[encoded data removed]"
          },
          "metadata": {
            "needs_background": "light"
          }
        },
        {
          "output_type": "stream",
          "name": "stdout",
          "text": [
            "Test RMSE: 2383.538\n"
          ]
        },
        {
          "output_type": "display_data",
          "data": {
            "text/plain": [
              "<Figure size 432x288 with 1 Axes>"
            ],
            "image/png": "[encoded data removed]"
          },
          "metadata": {
            "needs_background": "light"
          }
        }
      ]
    },
    {
      "cell_type": "markdown",
      "source": [
        "### Modelo 2"
      ],
      "metadata": {
        "id": "owGlAdSp49vQ"
      }
    },
    {
      "cell_type": "code",
      "source": [
        "# Modelo 2\n",
        "train_model(model2, tf.keras.losses.MSE, tf.keras.optimizers.Adam(), trainX, trainY)\n",
        "evaluate_model(model2, testX, testY)"
      ],
      "metadata": {
        "id": "4HgiACq949vR",
        "colab": {
          "base_uri": "https://localhost:8080/",
          "height": 1000
        },
        "outputId": "6198bb50-f3fc-42e1-8c0a-890b638ba57c"
      },
      "execution_count": 119,
      "outputs": [
        {
          "output_type": "stream",
          "name": "stdout",
          "text": [
            "Epoch 1/50\n",
            "60/60 [==============================] - 7s 26ms/step - loss: 0.0014 - val_loss: 0.0045\n",
            "Epoch 2/50\n",
            "60/60 [==============================] - 1s 12ms/step - loss: 1.7515e-05 - val_loss: 0.0025\n",
            "Epoch 3/50\n",
            "60/60 [==============================] - 1s 12ms/step - loss: 1.8951e-05 - val_loss: 0.0029\n",
            "Epoch 4/50\n",
            "60/60 [==============================] - 1s 13ms/step - loss: 1.5745e-05 - val_loss: 0.0029\n",
            "Epoch 5/50\n",
            "60/60 [==============================] - 1s 12ms/step - loss: 2.5711e-05 - val_loss: 0.0027\n",
            "Epoch 6/50\n",
            "60/60 [==============================] - 1s 12ms/step - loss: 1.7850e-05 - val_loss: 0.0042\n",
            "Epoch 7/50\n",
            "60/60 [==============================] - 1s 12ms/step - loss: 2.8531e-05 - val_loss: 0.0046\n",
            "Epoch 8/50\n",
            "60/60 [==============================] - 1s 11ms/step - loss: 2.1339e-05 - val_loss: 0.0018\n",
            "Epoch 9/50\n",
            "60/60 [==============================] - 1s 11ms/step - loss: 1.5850e-05 - val_loss: 0.0035\n",
            "Epoch 10/50\n",
            "60/60 [==============================] - 1s 11ms/step - loss: 1.6278e-05 - val_loss: 0.0020\n",
            "Epoch 11/50\n",
            "60/60 [==============================] - 1s 11ms/step - loss: 2.3219e-05 - val_loss: 0.0042\n",
            "Epoch 12/50\n",
            "60/60 [==============================] - 1s 11ms/step - loss: 2.4474e-05 - val_loss: 0.0041\n",
            "Epoch 13/50\n",
            "60/60 [==============================] - 1s 12ms/step - loss: 1.9968e-05 - val_loss: 0.0032\n",
            "Epoch 14/50\n",
            "60/60 [==============================] - 1s 11ms/step - loss: 2.2057e-05 - val_loss: 0.0029\n",
            "Epoch 15/50\n",
            "60/60 [==============================] - 1s 11ms/step - loss: 1.9057e-05 - val_loss: 0.0020\n",
            "Epoch 16/50\n",
            "60/60 [==============================] - 1s 12ms/step - loss: 1.7276e-05 - val_loss: 0.0013\n",
            "Epoch 17/50\n",
            "60/60 [==============================] - 1s 12ms/step - loss: 1.6689e-05 - val_loss: 7.8445e-04\n",
            "Epoch 18/50\n",
            "60/60 [==============================] - 1s 12ms/step - loss: 1.9214e-05 - val_loss: 0.0012\n",
            "Epoch 19/50\n",
            "60/60 [==============================] - 1s 13ms/step - loss: 1.5477e-05 - val_loss: 0.0016\n",
            "Epoch 20/50\n",
            "60/60 [==============================] - 1s 12ms/step - loss: 1.7078e-05 - val_loss: 0.0030\n",
            "Epoch 21/50\n",
            "60/60 [==============================] - 1s 12ms/step - loss: 1.9763e-05 - val_loss: 0.0027\n",
            "Epoch 22/50\n",
            "60/60 [==============================] - 1s 12ms/step - loss: 1.6941e-05 - val_loss: 0.0017\n",
            "Epoch 23/50\n",
            "60/60 [==============================] - 1s 12ms/step - loss: 1.5151e-05 - val_loss: 0.0013\n",
            "Epoch 24/50\n",
            "60/60 [==============================] - 1s 12ms/step - loss: 2.1541e-05 - val_loss: 9.7358e-04\n",
            "Epoch 25/50\n",
            "60/60 [==============================] - 1s 12ms/step - loss: 2.6943e-05 - val_loss: 0.0014\n",
            "Epoch 26/50\n",
            "60/60 [==============================] - 1s 12ms/step - loss: 1.4148e-05 - val_loss: 0.0011\n",
            "Epoch 27/50\n",
            "60/60 [==============================] - 1s 13ms/step - loss: 1.3863e-05 - val_loss: 7.1617e-04\n",
            "Epoch 28/50\n",
            "60/60 [==============================] - 1s 14ms/step - loss: 2.3769e-05 - val_loss: 0.0012\n",
            "Epoch 29/50\n",
            "60/60 [==============================] - 1s 13ms/step - loss: 2.0714e-05 - val_loss: 0.0010\n",
            "Epoch 30/50\n",
            "60/60 [==============================] - 1s 14ms/step - loss: 2.0847e-05 - val_loss: 0.0015\n",
            "Epoch 31/50\n",
            "60/60 [==============================] - 1s 13ms/step - loss: 1.5082e-05 - val_loss: 0.0010\n",
            "Epoch 32/50\n",
            "60/60 [==============================] - 1s 13ms/step - loss: 1.9500e-05 - val_loss: 0.0011\n",
            "Epoch 33/50\n",
            "60/60 [==============================] - 1s 14ms/step - loss: 1.7220e-05 - val_loss: 0.0011\n",
            "Epoch 34/50\n",
            "60/60 [==============================] - 1s 14ms/step - loss: 1.5074e-05 - val_loss: 4.7111e-04\n",
            "Epoch 35/50\n",
            "60/60 [==============================] - 1s 13ms/step - loss: 2.1591e-05 - val_loss: 0.0011\n",
            "Epoch 36/50\n",
            "60/60 [==============================] - 1s 13ms/step - loss: 2.3466e-05 - val_loss: 0.0025\n",
            "Epoch 37/50\n",
            "60/60 [==============================] - 1s 12ms/step - loss: 2.4139e-05 - val_loss: 9.2613e-04\n",
            "Epoch 38/50\n",
            "60/60 [==============================] - 1s 14ms/step - loss: 1.8513e-05 - val_loss: 6.6052e-04\n",
            "Epoch 39/50\n",
            "60/60 [==============================] - 1s 12ms/step - loss: 2.0983e-05 - val_loss: 7.7838e-04\n",
            "Epoch 40/50\n",
            "60/60 [==============================] - 1s 12ms/step - loss: 1.8302e-05 - val_loss: 5.5954e-04\n",
            "Epoch 41/50\n",
            "60/60 [==============================] - 1s 11ms/step - loss: 1.4012e-05 - val_loss: 9.4782e-04\n",
            "Epoch 42/50\n",
            "60/60 [==============================] - 1s 11ms/step - loss: 1.7418e-05 - val_loss: 8.4353e-04\n",
            "Epoch 43/50\n",
            "60/60 [==============================] - 1s 13ms/step - loss: 1.9326e-05 - val_loss: 0.0012\n",
            "Epoch 44/50\n",
            "60/60 [==============================] - 1s 11ms/step - loss: 1.7937e-05 - val_loss: 7.1376e-04\n",
            "Epoch 45/50\n",
            "60/60 [==============================] - 1s 11ms/step - loss: 1.4157e-05 - val_loss: 5.3671e-04\n",
            "Epoch 46/50\n",
            "60/60 [==============================] - 1s 13ms/step - loss: 1.3272e-05 - val_loss: 5.8605e-04\n",
            "Epoch 47/50\n",
            "60/60 [==============================] - 1s 13ms/step - loss: 1.6444e-05 - val_loss: 0.0015\n",
            "Epoch 48/50\n",
            "60/60 [==============================] - 1s 12ms/step - loss: 2.4420e-05 - val_loss: 0.0011\n",
            "Epoch 49/50\n",
            "60/60 [==============================] - 1s 13ms/step - loss: 1.5651e-05 - val_loss: 6.7631e-04\n",
            "Epoch 50/50\n",
            "60/60 [==============================] - 1s 12ms/step - loss: 2.7083e-05 - val_loss: 0.0011\n"
          ]
        },
        {
          "output_type": "display_data",
          "data": {
            "text/plain": [
              "<Figure size 432x288 with 1 Axes>"
            ],
            "image/png": "[encoded data removed]"
          },
          "metadata": {
            "needs_background": "light"
          }
        },
        {
          "output_type": "display_data",
          "data": {
            "text/plain": [
              "<Figure size 432x288 with 1 Axes>"
            ],
            "image/png": "[encoded data removed]"
          },
          "metadata": {
            "needs_background": "light"
          }
        },
        {
          "output_type": "stream",
          "name": "stdout",
          "text": [
            "Test RMSE: 2054.306\n"
          ]
        },
        {
          "output_type": "display_data",
          "data": {
            "text/plain": [
              "<Figure size 432x288 with 1 Axes>"
            ],
            "image/png": "[encoded data removed]"
          },
          "metadata": {
            "needs_background": "light"
          }
        }
      ]
    },
    {
      "cell_type": "markdown",
      "source": [
        "### Modelo 3"
      ],
      "metadata": {
        "id": "HyzL1NtW498f"
      }
    },
    {
      "cell_type": "code",
      "source": [
        "# Modelo 3\n",
        "train_model(model2, tf.keras.losses.MAE, tf.keras.optimizers.Adamax(), trainX, trainY)\n",
        "evaluate_model(model2, testX, testY)"
      ],
      "metadata": {
        "id": "HN6bbP89498f",
        "colab": {
          "base_uri": "https://localhost:8080/",
          "height": 1000
        },
        "outputId": "9ebb3529-7c97-49aa-90ee-ac1bc7cd2711"
      },
      "execution_count": 130,
      "outputs": [
        {
          "output_type": "stream",
          "name": "stdout",
          "text": [
            "Epoch 1/50\n",
            "60/60 [==============================] - 5s 24ms/step - loss: 0.0033 - val_loss: 0.0125\n",
            "Epoch 2/50\n",
            "60/60 [==============================] - 1s 13ms/step - loss: 0.0018 - val_loss: 0.0109\n",
            "Epoch 3/50\n",
            "60/60 [==============================] - 1s 13ms/step - loss: 0.0016 - val_loss: 0.0113\n",
            "Epoch 4/50\n",
            "60/60 [==============================] - 1s 12ms/step - loss: 0.0019 - val_loss: 0.0125\n",
            "Epoch 5/50\n",
            "60/60 [==============================] - 1s 13ms/step - loss: 0.0016 - val_loss: 0.0107\n",
            "Epoch 6/50\n",
            "60/60 [==============================] - 1s 11ms/step - loss: 0.0016 - val_loss: 0.0119\n",
            "Epoch 7/50\n",
            "60/60 [==============================] - 1s 12ms/step - loss: 0.0019 - val_loss: 0.0124\n",
            "Epoch 8/50\n",
            "60/60 [==============================] - 1s 11ms/step - loss: 0.0021 - val_loss: 0.0086\n",
            "Epoch 9/50\n",
            "60/60 [==============================] - 1s 12ms/step - loss: 0.0017 - val_loss: 0.0100\n",
            "Epoch 10/50\n",
            "60/60 [==============================] - 1s 13ms/step - loss: 0.0016 - val_loss: 0.0090\n",
            "Epoch 11/50\n",
            "60/60 [==============================] - 1s 11ms/step - loss: 0.0019 - val_loss: 0.0132\n",
            "Epoch 12/50\n",
            "60/60 [==============================] - 1s 13ms/step - loss: 0.0016 - val_loss: 0.0091\n",
            "Epoch 13/50\n",
            "60/60 [==============================] - 1s 12ms/step - loss: 0.0018 - val_loss: 0.0134\n",
            "Epoch 14/50\n",
            "60/60 [==============================] - 1s 13ms/step - loss: 0.0019 - val_loss: 0.0093\n",
            "Epoch 15/50\n",
            "60/60 [==============================] - 1s 12ms/step - loss: 0.0018 - val_loss: 0.0106\n",
            "Epoch 16/50\n",
            "60/60 [==============================] - 1s 12ms/step - loss: 0.0016 - val_loss: 0.0103\n",
            "Epoch 17/50\n",
            "60/60 [==============================] - 1s 12ms/step - loss: 0.0015 - val_loss: 0.0102\n",
            "Epoch 18/50\n",
            "60/60 [==============================] - 1s 13ms/step - loss: 0.0019 - val_loss: 0.0101\n",
            "Epoch 19/50\n",
            "60/60 [==============================] - 1s 13ms/step - loss: 0.0017 - val_loss: 0.0097\n",
            "Epoch 20/50\n",
            "60/60 [==============================] - 1s 14ms/step - loss: 0.0016 - val_loss: 0.0109\n",
            "Epoch 21/50\n",
            "60/60 [==============================] - 1s 16ms/step - loss: 0.0018 - val_loss: 0.0116\n",
            "Epoch 22/50\n",
            "60/60 [==============================] - 1s 14ms/step - loss: 0.0016 - val_loss: 0.0098\n",
            "Epoch 23/50\n",
            "60/60 [==============================] - 1s 13ms/step - loss: 0.0018 - val_loss: 0.0093\n",
            "Epoch 24/50\n",
            "60/60 [==============================] - 1s 14ms/step - loss: 0.0014 - val_loss: 0.0109\n",
            "Epoch 25/50\n",
            "60/60 [==============================] - 1s 13ms/step - loss: 0.0015 - val_loss: 0.0093\n",
            "Epoch 26/50\n",
            "60/60 [==============================] - 1s 15ms/step - loss: 0.0016 - val_loss: 0.0087\n",
            "Epoch 27/50\n",
            "60/60 [==============================] - 1s 17ms/step - loss: 0.0016 - val_loss: 0.0096\n",
            "Epoch 28/50\n",
            "60/60 [==============================] - 1s 16ms/step - loss: 0.0017 - val_loss: 0.0103\n",
            "Epoch 29/50\n",
            "60/60 [==============================] - 1s 13ms/step - loss: 0.0017 - val_loss: 0.0098\n",
            "Epoch 30/50\n",
            "60/60 [==============================] - 1s 15ms/step - loss: 0.0015 - val_loss: 0.0091\n",
            "Epoch 31/50\n",
            "60/60 [==============================] - 1s 13ms/step - loss: 0.0017 - val_loss: 0.0090\n",
            "Epoch 32/50\n",
            "60/60 [==============================] - 1s 13ms/step - loss: 0.0016 - val_loss: 0.0151\n",
            "Epoch 33/50\n",
            "60/60 [==============================] - 1s 14ms/step - loss: 0.0015 - val_loss: 0.0099\n",
            "Epoch 34/50\n",
            "60/60 [==============================] - 1s 15ms/step - loss: 0.0015 - val_loss: 0.0119\n",
            "Epoch 35/50\n",
            "60/60 [==============================] - 1s 15ms/step - loss: 0.0015 - val_loss: 0.0087\n",
            "Epoch 36/50\n",
            "60/60 [==============================] - 1s 14ms/step - loss: 0.0018 - val_loss: 0.0124\n",
            "Epoch 37/50\n",
            "60/60 [==============================] - 1s 18ms/step - loss: 0.0018 - val_loss: 0.0107\n",
            "Epoch 38/50\n",
            "60/60 [==============================] - 1s 12ms/step - loss: 0.0018 - val_loss: 0.0091\n",
            "Epoch 39/50\n",
            "60/60 [==============================] - 1s 13ms/step - loss: 0.0015 - val_loss: 0.0090\n",
            "Epoch 40/50\n",
            "60/60 [==============================] - 1s 13ms/step - loss: 0.0018 - val_loss: 0.0098\n",
            "Epoch 41/50\n",
            "60/60 [==============================] - 1s 13ms/step - loss: 0.0021 - val_loss: 0.0102\n",
            "Epoch 42/50\n",
            "60/60 [==============================] - 1s 11ms/step - loss: 0.0018 - val_loss: 0.0091\n",
            "Epoch 43/50\n",
            "60/60 [==============================] - 1s 11ms/step - loss: 0.0018 - val_loss: 0.0099\n",
            "Epoch 44/50\n",
            "60/60 [==============================] - 1s 13ms/step - loss: 0.0016 - val_loss: 0.0114\n",
            "Epoch 45/50\n",
            "60/60 [==============================] - 1s 13ms/step - loss: 0.0017 - val_loss: 0.0092\n",
            "Epoch 46/50\n",
            "60/60 [==============================] - 1s 11ms/step - loss: 0.0017 - val_loss: 0.0093\n",
            "Epoch 47/50\n",
            "60/60 [==============================] - 1s 12ms/step - loss: 0.0016 - val_loss: 0.0098\n",
            "Epoch 48/50\n",
            "60/60 [==============================] - 1s 13ms/step - loss: 0.0017 - val_loss: 0.0093\n",
            "Epoch 49/50\n",
            "60/60 [==============================] - 1s 13ms/step - loss: 0.0016 - val_loss: 0.0117\n",
            "Epoch 50/50\n",
            "60/60 [==============================] - 1s 12ms/step - loss: 0.0015 - val_loss: 0.0095\n"
          ]
        },
        {
          "output_type": "display_data",
          "data": {
            "text/plain": [
              "<Figure size 432x288 with 1 Axes>"
            ],
            "image/png": "[encoded data removed]"
          },
          "metadata": {
            "needs_background": "light"
          }
        },
        {
          "output_type": "display_data",
          "data": {
            "text/plain": [
              "<Figure size 432x288 with 1 Axes>"
            ],
            "image/png": "[encoded data removed]"
          },
          "metadata": {
            "needs_background": "light"
          }
        },
        {
          "output_type": "stream",
          "name": "stdout",
          "text": [
            "Test RMSE: 1228.596\n"
          ]
        },
        {
          "output_type": "display_data",
          "data": {
            "text/plain": [
              "<Figure size 432x288 with 1 Axes>"
            ],
            "image/png": "[encoded data removed]"
          },
          "metadata": {
            "needs_background": "light"
          }
        }
      ]
    },
    {
      "cell_type": "markdown",
      "source": [
        "O Modelo 3 foi o que mais se ajustou a curva de Predição, depois o Modelo 2, e por último o Modelo 1."
      ],
      "metadata": {
        "id": "0wC0HKKMArtH"
      }
    },
    {
      "cell_type": "markdown",
      "source": [
        "## Prevendo o próximo dia"
      ],
      "metadata": {
        "id": "R9jG61U65K_s"
      }
    },
    {
      "cell_type": "code",
      "source": [
        "# https://www.tensorflow.org/tutorials/structured_data/time_series\n",
        "def create_time_steps(length):\n",
        "  time_steps = []\n",
        "  for i in range(-length, 0, 1):\n",
        "    time_steps.append(i)\n",
        "  return time_steps\n",
        "\n",
        "def baseline(history):\n",
        "  return np.mean(history)\n",
        "  \n",
        "def show_plot(plot_data, delta, title):\n",
        "  labels = ['History', 'True Future', 'Model Prediction']\n",
        "  marker = ['.-', 'rx', 'go']\n",
        "  time_steps = create_time_steps(plot_data[0].shape[0])\n",
        "  if delta:\n",
        "    future = delta\n",
        "  else:\n",
        "    future = 0\n",
        "\n",
        "  pyplot.title(title)\n",
        "  for i, x in enumerate(plot_data):\n",
        "    if i:\n",
        "      pyplot.plot(future, plot_data[i], marker[i], markersize=10,\n",
        "               label=labels[i])\n",
        "    else:\n",
        "      pyplot.plot(time_steps, plot_data[i].flatten(), marker[i], label=labels[i])\n",
        "  pyplot.legend()\n",
        "  pyplot.xlim([time_steps[0], (future+5)*2])\n",
        "  pyplot.xlabel('Time-Step')\n",
        "  return pyplot"
      ],
      "metadata": {
        "id": "ojIp8CA95We1"
      },
      "execution_count": 121,
      "outputs": []
    },
    {
      "cell_type": "markdown",
      "source": [
        "### ToDo: Função para predizer o próximo dia (15pt)"
      ],
      "metadata": {
        "id": "bvVi8QDL5oID"
      }
    },
    {
      "cell_type": "code",
      "source": [
        "def predict_next_day(model, testX, testY):\n",
        "  # os valores foram normalizados para o treinamento. \n",
        "  # Veja que para fazer sentido, eles devem voltar para a escala original.\n",
        "  # Volta para escala em US dollar :\n",
        "  yhat_inverse = scaler.inverse_transform(model.predict(testX).reshape(-1, 1))\n",
        "  testY_inverse = scaler.inverse_transform(testY.reshape(-1, 1))\n",
        "\n",
        "  # na base de teste, plote até a instância 200 e tente predizer a instância futura: 201\n",
        "  # use a função show_plot\n",
        "  show_plot([testY_inverse[0:200], yhat_inverse[201],\n",
        "             baseline(testY_inverse[201])], 1, 'Predição do dia seguinte')\n",
        "  \n",
        "  print('valor predito do dia 201: ', yhat_inverse[201])\n",
        "  print('Valor real do dia 201: ', testY_inverse[201])"
      ],
      "metadata": {
        "id": "6oMGFBF75mtz"
      },
      "execution_count": 122,
      "outputs": []
    },
    {
      "cell_type": "markdown",
      "source": [
        "#### Modelo 1:"
      ],
      "metadata": {
        "id": "UbYs3xop-KUf"
      }
    },
    {
      "cell_type": "code",
      "metadata": {
        "id": "PkGghzNj-KUg",
        "colab": {
          "base_uri": "https://localhost:8080/",
          "height": 330
        },
        "outputId": "ad7f2391-aa6c-4816-e1b7-e60e7ed1e75c"
      },
      "source": [
        "# ToDo: seu código\n",
        "predict_next_day(model1, testX, testY)"
      ],
      "execution_count": 126,
      "outputs": [
        {
          "output_type": "stream",
          "name": "stdout",
          "text": [
            "valor predito do dia 201:  [8159.112]\n",
            "Valor real do dia 201:  [8431.232]\n"
          ]
        },
        {
          "output_type": "display_data",
          "data": {
            "text/plain": [
              "<Figure size 432x288 with 1 Axes>"
            ],
            "image/png": "[encoded data removed]"
          },
          "metadata": {
            "needs_background": "light"
          }
        }
      ]
    },
    {
      "cell_type": "markdown",
      "source": [
        "#### Modelo 2:"
      ],
      "metadata": {
        "id": "C5ymkqxY-OHO"
      }
    },
    {
      "cell_type": "code",
      "metadata": {
        "id": "eQmXz8FP-OHP",
        "colab": {
          "base_uri": "https://localhost:8080/",
          "height": 330
        },
        "outputId": "bd29df96-8358-4916-b132-c3a5dbd84d7b"
      },
      "source": [
        "# ToDo: seu código\n",
        "predict_next_day(model2, testX, testY)"
      ],
      "execution_count": 127,
      "outputs": [
        {
          "output_type": "stream",
          "name": "stdout",
          "text": [
            "valor predito do dia 201:  [8181.3506]\n",
            "Valor real do dia 201:  [8431.232]\n"
          ]
        },
        {
          "output_type": "display_data",
          "data": {
            "text/plain": [
              "<Figure size 432x288 with 1 Axes>"
            ],
            "image/png": "[encoded data removed]"
          },
          "metadata": {
            "needs_background": "light"
          }
        }
      ]
    },
    {
      "cell_type": "markdown",
      "source": [
        "#### Modelo 3:"
      ],
      "metadata": {
        "id": "AZgby5Y2-OQ7"
      }
    },
    {
      "cell_type": "code",
      "metadata": {
        "id": "sTdN1OTN-OQ7",
        "colab": {
          "base_uri": "https://localhost:8080/",
          "height": 330
        },
        "outputId": "b973b84f-daaa-4743-bab2-55a58b96d8a6"
      },
      "source": [
        "# ToDo: seu código\n",
        "predict_next_day(model3, testX, testY)"
      ],
      "execution_count": 132,
      "outputs": [
        {
          "output_type": "stream",
          "name": "stdout",
          "text": [
            "valor predito do dia 201:  [-818.1589]\n",
            "Valor real do dia 201:  [8431.232]\n"
          ]
        },
        {
          "output_type": "display_data",
          "data": {
            "text/plain": [
              "<Figure size 432x288 with 1 Axes>"
            ],
            "image/png": "[encoded data removed]"
          },
          "metadata": {
            "needs_background": "light"
          }
        }
      ]
    },
    {
      "cell_type": "markdown",
      "source": [
        "O Modelo 2 chegou mais perto da predição correta para o dia 201."
      ],
      "metadata": {
        "id": "Hn9Y_gDuD19o"
      }
    },
    {
      "cell_type": "markdown",
      "source": [
        "## ToDo: Resultados (15pt)"
      ],
      "metadata": {
        "id": "pPceIMSSyFc-"
      }
    },
    {
      "cell_type": "markdown",
      "source": [
        "Coloque os valores dos modelos em uma tabela. Em cada coluna, informe qual a função de custo utilizada, qual otimizador e o erro na partição de teste em RMSE."
      ],
      "metadata": {
        "id": "9q2XbR-R6PU2"
      }
    },
    {
      "cell_type": "markdown",
      "source": [
        "```\n",
        "   ------------------------------------------------------\n",
        "   | Modelo   | Função de Custo | Otimizador | RMSE     |\n",
        "   ------------------------------------------------------\n",
        "   | Modelo 1 |         MSE     |    ADAM    | 2383.538 |\n",
        "   | Modelo 2 |         MSE     |    ADAM    | 2054.306 |\n",
        "   | Modelo 3 |         MAE     |    ADAMMAX | 1228.596 |\n",
        "   ------------------------------------------------------\n",
        "```\n"
      ],
      "metadata": {
        "id": "D5Hxs5nxxBUO"
      }
    },
    {
      "cell_type": "markdown",
      "source": [
        "O Modelo 3 teve o menor erro no Treinamento, e obteve um melhor resultado na validação."
      ],
      "metadata": {
        "id": "KdTdoLzaDqyJ"
      }
    }
  ]
}