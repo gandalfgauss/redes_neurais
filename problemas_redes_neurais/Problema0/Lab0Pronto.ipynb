{
  "nbformat": 4,
  "nbformat_minor": 0,
  "metadata": {
    "colab": {
      "name": "Lab0.ipynb",
      "provenance": []
    },
    "kernelspec": {
      "name": "python3",
      "display_name": "Python 3"
    }
  },
  "cells": [
    {
      "cell_type": "markdown",
      "metadata": {
        "id": "U0jBxZdl13So"
      },
      "source": [
        "# **Lab 0 - PCC177/BCC406**\n",
        "\n",
        "## **REDES NEURAIS E APRENDIZAGEM EM PROFUNDIDADE**\n",
        "\n",
        "### Profs. Eduardo e Pedro"
      ]
    },
    {
      "cell_type": "markdown",
      "metadata": {
        "id": "_J2Iw9IF3SfD"
      },
      "source": [
        "Data da entrega : 12/08 \n",
        "\n",
        "- Complete o código (marcado com ToDo) e escreva os textos diretamente nos notebooks.\n",
        "- Execute todo notebook e salve tudo em um PDF nomeado como \"NomeSobrenome-Lab0.pdf\"\n",
        "- Envie o PDF para via [Google FORM](https://forms.gle/n17SEBB3XJrawM96A)."
      ]
    },
    {
      "cell_type": "markdown",
      "metadata": {
        "id": "brjwoZlM3mmT"
      },
      "source": [
        "Configure seu ambiente, seguindo os passos da seção de instalação do [livro](https://d2l.ai/chapter_installation/index.html) ou instale a distribuição [Anaconda](https://docs.anaconda.com/anaconda/install/). \n",
        "\n",
        "Se preferir usar Google CoLab, lembre-se de atualizar o drive do compilador CUDA da NVIDIA para que ele funcione com o MXNet. Veja exemplo no [link](https://colab.research.google.com/drive/16jvmGDx7Z51CSyDnRe9bbgtlWJWHA057?usp=sharing)\n",
        "\n",
        "**Antes de realizar o notebook, leia a seção 2.1 do livro [texto](http://d2l.ai/chapter_preliminaries/ndarray.html)."
      ]
    },
    {
      "cell_type": "markdown",
      "metadata": {
        "id": "rgbVriCaYte2"
      },
      "source": [
        "# **NumPy**\n",
        "\n",
        "*NumPy é uma das bibliotecas mais populares para computação científica. Ela foi desenvolvida para dar suporte a operações com arrays de N dimensões e implementa métodos úteis para operações de álgebra linear, geração de números aleatórios, etc.*\n",
        "\n",
        "# Criando arrays"
      ]
    },
    {
      "cell_type": "code",
      "metadata": {
        "id": "_BahTvnI2YfB"
      },
      "source": [
        "# primeiramente, vamos importar a biblioteca\n",
        "import numpy as np"
      ],
      "execution_count": 1,
      "outputs": []
    },
    {
      "cell_type": "code",
      "metadata": {
        "id": "GZ7qRwmy11Vv",
        "colab": {
          "base_uri": "https://localhost:8080/"
        },
        "outputId": "68447b4c-c8d6-4e12-c8e2-af29897a3f48"
      },
      "source": [
        "# usaremos a função zeros para criar um array de uma dimensão de tamanho 5\n",
        "np.zeros(5)"
      ],
      "execution_count": 2,
      "outputs": [
        {
          "output_type": "execute_result",
          "data": {
            "text/plain": [
              "array([0., 0., 0., 0., 0.])"
            ]
          },
          "metadata": {},
          "execution_count": 2
        }
      ]
    },
    {
      "cell_type": "code",
      "metadata": {
        "id": "AZFe47z7c1c_",
        "colab": {
          "base_uri": "https://localhost:8080/"
        },
        "outputId": "26c54c24-7cff-426f-d14a-4f33f32aec88"
      },
      "source": [
        "# da mesma forma, para criar um array de duas dimensões:\n",
        "np.zeros((3,4))"
      ],
      "execution_count": 3,
      "outputs": [
        {
          "output_type": "execute_result",
          "data": {
            "text/plain": [
              "array([[0., 0., 0., 0.],\n",
              "       [0., 0., 0., 0.],\n",
              "       [0., 0., 0., 0.]])"
            ]
          },
          "metadata": {},
          "execution_count": 3
        }
      ]
    },
    {
      "cell_type": "markdown",
      "metadata": {
        "id": "M8KT-jbZc_6k"
      },
      "source": [
        "## vocabulário comum\n",
        "\n",
        "* Em NumPy, cada dimensão é chamada eixo (**axis**).\n",
        "* Um array é uma lista de axis e uma lista de tamanho dos axis é o que chamamos de **shape** do array.\n",
        "    * Por exemplo, o shape da matrix acima é `(3, 4)`.\n",
        "    \n",
        "* O tamanho (**size**) de uma array é o número total de elementos, por exemplo, no array 2D acima = 3*4=12."
      ]
    },
    {
      "cell_type": "code",
      "metadata": {
        "id": "1YWyPHbuc_SN",
        "colab": {
          "base_uri": "https://localhost:8080/"
        },
        "outputId": "491d627b-98ca-4840-f8b4-d09a3c943b01"
      },
      "source": [
        "a = np.zeros((3,4))\n",
        "a"
      ],
      "execution_count": 4,
      "outputs": [
        {
          "output_type": "execute_result",
          "data": {
            "text/plain": [
              "array([[0., 0., 0., 0.],\n",
              "       [0., 0., 0., 0.],\n",
              "       [0., 0., 0., 0.]])"
            ]
          },
          "metadata": {},
          "execution_count": 4
        }
      ]
    },
    {
      "cell_type": "code",
      "metadata": {
        "id": "UUvZr2bBcwC7",
        "colab": {
          "base_uri": "https://localhost:8080/"
        },
        "outputId": "8f097e7c-6448-46a4-f980-5567bdfb2b12"
      },
      "source": [
        "a.shape"
      ],
      "execution_count": 5,
      "outputs": [
        {
          "output_type": "execute_result",
          "data": {
            "text/plain": [
              "(3, 4)"
            ]
          },
          "metadata": {},
          "execution_count": 5
        }
      ]
    },
    {
      "cell_type": "code",
      "metadata": {
        "id": "5Vrzg2yMeaiS",
        "colab": {
          "base_uri": "https://localhost:8080/"
        },
        "outputId": "547b605a-9ec6-490a-e532-a3abb57cb0a7"
      },
      "source": [
        "a.ndim"
      ],
      "execution_count": 6,
      "outputs": [
        {
          "output_type": "execute_result",
          "data": {
            "text/plain": [
              "2"
            ]
          },
          "metadata": {},
          "execution_count": 6
        }
      ]
    },
    {
      "cell_type": "code",
      "metadata": {
        "id": "0dIVxyT6eeFp",
        "colab": {
          "base_uri": "https://localhost:8080/"
        },
        "outputId": "effb6389-d5e7-4b63-fed6-72d48fd5089d"
      },
      "source": [
        "a.size"
      ],
      "execution_count": 7,
      "outputs": [
        {
          "output_type": "execute_result",
          "data": {
            "text/plain": [
              "12"
            ]
          },
          "metadata": {},
          "execution_count": 7
        }
      ]
    },
    {
      "cell_type": "code",
      "metadata": {
        "id": "6r6XyebuexGL",
        "colab": {
          "base_uri": "https://localhost:8080/"
        },
        "outputId": "bfd656a2-2ab5-4c8e-e015-2ea62beceb75"
      },
      "source": [
        "# ToDo : Criar um array de 3 dimensões, de shape (2,3,4) e repetir as operações acima\n",
        "b = np.zeros((2,3,4))\n",
        "b"
      ],
      "execution_count": 11,
      "outputs": [
        {
          "output_type": "execute_result",
          "data": {
            "text/plain": [
              "array([[[0., 0., 0., 0.],\n",
              "        [0., 0., 0., 0.],\n",
              "        [0., 0., 0., 0.]],\n",
              "\n",
              "       [[0., 0., 0., 0.],\n",
              "        [0., 0., 0., 0.],\n",
              "        [0., 0., 0., 0.]]])"
            ]
          },
          "metadata": {},
          "execution_count": 11
        }
      ]
    },
    {
      "cell_type": "code",
      "source": [
        "b.shape"
      ],
      "metadata": {
        "colab": {
          "base_uri": "https://localhost:8080/"
        },
        "id": "C4jRP6wq13iZ",
        "outputId": "d7695198-e3bf-45a2-f13b-416b2c60982b"
      },
      "execution_count": 12,
      "outputs": [
        {
          "output_type": "execute_result",
          "data": {
            "text/plain": [
              "(2, 3, 4)"
            ]
          },
          "metadata": {},
          "execution_count": 12
        }
      ]
    },
    {
      "cell_type": "code",
      "source": [
        "b.ndim"
      ],
      "metadata": {
        "colab": {
          "base_uri": "https://localhost:8080/"
        },
        "id": "Oz8ERBiS1446",
        "outputId": "1d9231b4-ffe2-40aa-dcc6-f2009d2dd955"
      },
      "execution_count": 13,
      "outputs": [
        {
          "output_type": "execute_result",
          "data": {
            "text/plain": [
              "3"
            ]
          },
          "metadata": {},
          "execution_count": 13
        }
      ]
    },
    {
      "cell_type": "code",
      "source": [
        "b.size"
      ],
      "metadata": {
        "colab": {
          "base_uri": "https://localhost:8080/"
        },
        "id": "um2RMptK1iAb",
        "outputId": "19fe8bb0-973a-4c0a-bc25-d0991495b4fc"
      },
      "execution_count": 14,
      "outputs": [
        {
          "output_type": "execute_result",
          "data": {
            "text/plain": [
              "24"
            ]
          },
          "metadata": {},
          "execution_count": 14
        }
      ]
    },
    {
      "cell_type": "code",
      "metadata": {
        "id": "ZDy7vZuWfIto"
      },
      "source": [
        "# ToDo : repita as operações acima trocando a função zeros por : ones, full, empty"
      ],
      "execution_count": null,
      "outputs": []
    },
    {
      "cell_type": "code",
      "source": [
        "b = np.ones((2,3,4))\n",
        "b"
      ],
      "metadata": {
        "colab": {
          "base_uri": "https://localhost:8080/"
        },
        "id": "gxPO8q402L7r",
        "outputId": "e5dbbf8f-e501-494d-d6d3-d3d567489136"
      },
      "execution_count": 15,
      "outputs": [
        {
          "output_type": "execute_result",
          "data": {
            "text/plain": [
              "array([[[1., 1., 1., 1.],\n",
              "        [1., 1., 1., 1.],\n",
              "        [1., 1., 1., 1.]],\n",
              "\n",
              "       [[1., 1., 1., 1.],\n",
              "        [1., 1., 1., 1.],\n",
              "        [1., 1., 1., 1.]]])"
            ]
          },
          "metadata": {},
          "execution_count": 15
        }
      ]
    },
    {
      "cell_type": "code",
      "source": [
        "b.shape"
      ],
      "metadata": {
        "colab": {
          "base_uri": "https://localhost:8080/"
        },
        "id": "farKKHHh2M76",
        "outputId": "7bef0de2-ddd0-4845-ff20-1d2352939be2"
      },
      "execution_count": 16,
      "outputs": [
        {
          "output_type": "execute_result",
          "data": {
            "text/plain": [
              "(2, 3, 4)"
            ]
          },
          "metadata": {},
          "execution_count": 16
        }
      ]
    },
    {
      "cell_type": "code",
      "source": [
        "b.ndim"
      ],
      "metadata": {
        "colab": {
          "base_uri": "https://localhost:8080/"
        },
        "id": "Cy0AG5ze2O6q",
        "outputId": "77d08b96-7da4-45aa-d4dc-5fd96b595c66"
      },
      "execution_count": 17,
      "outputs": [
        {
          "output_type": "execute_result",
          "data": {
            "text/plain": [
              "3"
            ]
          },
          "metadata": {},
          "execution_count": 17
        }
      ]
    },
    {
      "cell_type": "code",
      "source": [
        "b.size"
      ],
      "metadata": {
        "colab": {
          "base_uri": "https://localhost:8080/"
        },
        "id": "LUDvlwtD2PUJ",
        "outputId": "257f2099-5d3c-4968-960c-4d3bf54cdf75"
      },
      "execution_count": 18,
      "outputs": [
        {
          "output_type": "execute_result",
          "data": {
            "text/plain": [
              "24"
            ]
          },
          "metadata": {},
          "execution_count": 18
        }
      ]
    },
    {
      "cell_type": "code",
      "source": [
        "b = np.full((2,3,4), 5)\n",
        "b"
      ],
      "metadata": {
        "colab": {
          "base_uri": "https://localhost:8080/"
        },
        "id": "KAEroLe62Rl-",
        "outputId": "aeb63dbc-476d-4c60-d8d6-37ed3a83382a"
      },
      "execution_count": 20,
      "outputs": [
        {
          "output_type": "execute_result",
          "data": {
            "text/plain": [
              "array([[[5, 5, 5, 5],\n",
              "        [5, 5, 5, 5],\n",
              "        [5, 5, 5, 5]],\n",
              "\n",
              "       [[5, 5, 5, 5],\n",
              "        [5, 5, 5, 5],\n",
              "        [5, 5, 5, 5]]])"
            ]
          },
          "metadata": {},
          "execution_count": 20
        }
      ]
    },
    {
      "cell_type": "code",
      "source": [
        "b.shape"
      ],
      "metadata": {
        "colab": {
          "base_uri": "https://localhost:8080/"
        },
        "id": "cGYtE94-2RgX",
        "outputId": "56cca2c3-5ba4-4b92-8a74-2020daa7b6d9"
      },
      "execution_count": 21,
      "outputs": [
        {
          "output_type": "execute_result",
          "data": {
            "text/plain": [
              "(2, 3, 4)"
            ]
          },
          "metadata": {},
          "execution_count": 21
        }
      ]
    },
    {
      "cell_type": "code",
      "source": [
        "b.ndim"
      ],
      "metadata": {
        "colab": {
          "base_uri": "https://localhost:8080/"
        },
        "id": "lIbrBWlg2Rai",
        "outputId": "fb0e7959-954d-4576-f36e-8e1ca083acf1"
      },
      "execution_count": 22,
      "outputs": [
        {
          "output_type": "execute_result",
          "data": {
            "text/plain": [
              "3"
            ]
          },
          "metadata": {},
          "execution_count": 22
        }
      ]
    },
    {
      "cell_type": "code",
      "source": [
        "b.size"
      ],
      "metadata": {
        "colab": {
          "base_uri": "https://localhost:8080/"
        },
        "id": "68Fbbslc2RVa",
        "outputId": "6a5da9d3-edc5-4469-8d09-ee23a6517194"
      },
      "execution_count": 23,
      "outputs": [
        {
          "output_type": "execute_result",
          "data": {
            "text/plain": [
              "24"
            ]
          },
          "metadata": {},
          "execution_count": 23
        }
      ]
    },
    {
      "cell_type": "code",
      "source": [
        "b = np.empty((2,3,4))\n",
        "b"
      ],
      "metadata": {
        "colab": {
          "base_uri": "https://localhost:8080/"
        },
        "id": "5Jkg7hxN2RIZ",
        "outputId": "4fe2727f-81b3-46a6-e1b5-bc06d5ad98a6"
      },
      "execution_count": 24,
      "outputs": [
        {
          "output_type": "execute_result",
          "data": {
            "text/plain": [
              "array([[[1., 1., 1., 1.],\n",
              "        [1., 1., 1., 1.],\n",
              "        [1., 1., 1., 1.]],\n",
              "\n",
              "       [[1., 1., 1., 1.],\n",
              "        [1., 1., 1., 1.],\n",
              "        [1., 1., 1., 1.]]])"
            ]
          },
          "metadata": {},
          "execution_count": 24
        }
      ]
    },
    {
      "cell_type": "code",
      "source": [
        "b.shape"
      ],
      "metadata": {
        "colab": {
          "base_uri": "https://localhost:8080/"
        },
        "id": "BNRqJLl42RAB",
        "outputId": "034a7809-9e7e-442e-ac6d-f95979e86c3e"
      },
      "execution_count": 25,
      "outputs": [
        {
          "output_type": "execute_result",
          "data": {
            "text/plain": [
              "(2, 3, 4)"
            ]
          },
          "metadata": {},
          "execution_count": 25
        }
      ]
    },
    {
      "cell_type": "code",
      "source": [
        "b.ndim"
      ],
      "metadata": {
        "colab": {
          "base_uri": "https://localhost:8080/"
        },
        "id": "4nRkXud02Q3U",
        "outputId": "f0e5c0c0-5f49-488e-91b1-0576a736a217"
      },
      "execution_count": 26,
      "outputs": [
        {
          "output_type": "execute_result",
          "data": {
            "text/plain": [
              "3"
            ]
          },
          "metadata": {},
          "execution_count": 26
        }
      ]
    },
    {
      "cell_type": "code",
      "source": [
        "b.size"
      ],
      "metadata": {
        "colab": {
          "base_uri": "https://localhost:8080/"
        },
        "id": "HyfTNgX32Qpp",
        "outputId": "06985d9a-06b8-479e-b962-c85e5daf135a"
      },
      "execution_count": 27,
      "outputs": [
        {
          "output_type": "execute_result",
          "data": {
            "text/plain": [
              "24"
            ]
          },
          "metadata": {},
          "execution_count": 27
        }
      ]
    },
    {
      "cell_type": "markdown",
      "metadata": {
        "id": "_TzkxvDDfgWc"
      },
      "source": [
        "## np.arange\n",
        "\n",
        "você pode criar um array usando a função arange, similar a função range do Python."
      ]
    },
    {
      "cell_type": "code",
      "metadata": {
        "id": "vSxyvBeEftcC",
        "colab": {
          "base_uri": "https://localhost:8080/"
        },
        "outputId": "da70baa6-a3e2-4d7f-e745-0944c90d99dc"
      },
      "source": [
        "np.arange(1, 5)"
      ],
      "execution_count": 28,
      "outputs": [
        {
          "output_type": "execute_result",
          "data": {
            "text/plain": [
              "array([1, 2, 3, 4])"
            ]
          },
          "metadata": {},
          "execution_count": 28
        }
      ]
    },
    {
      "cell_type": "code",
      "metadata": {
        "id": "QQYKeQ4HfvzP",
        "colab": {
          "base_uri": "https://localhost:8080/"
        },
        "outputId": "3471d28e-f9e6-4094-ccfe-8c62b38bf75a"
      },
      "source": [
        "# para criar com ponto flutuante\n",
        "np.arange(1.0, 5.0)"
      ],
      "execution_count": 29,
      "outputs": [
        {
          "output_type": "execute_result",
          "data": {
            "text/plain": [
              "array([1., 2., 3., 4.])"
            ]
          },
          "metadata": {},
          "execution_count": 29
        }
      ]
    },
    {
      "cell_type": "code",
      "metadata": {
        "id": "6U8y37khjYOM",
        "colab": {
          "base_uri": "https://localhost:8080/"
        },
        "outputId": "a2200213-cfe3-4c84-d3a8-2459f7170015"
      },
      "source": [
        "# ToDo : crie um array com arange, variando de 1 a 5, com um passo de 0.5\n",
        "np.arange(1.0, 5.0, 0.5)"
      ],
      "execution_count": 32,
      "outputs": [
        {
          "output_type": "execute_result",
          "data": {
            "text/plain": [
              "array([1. , 1.5, 2. , 2.5, 3. , 3.5, 4. , 4.5])"
            ]
          },
          "metadata": {},
          "execution_count": 32
        }
      ]
    },
    {
      "cell_type": "markdown",
      "metadata": {
        "id": "a3FACJL6jxIc"
      },
      "source": [
        "## `np.rand` and `np.randn`\n",
        "O NumPy tem várias funções para criação de números aleatórios. Estas funções são muito úteis para inicialização dos pesos das redes neurais. Por exemplo, abaixo criamos uma matrix 3,4 inicializada com números em ponto flutuante (floats) e distribuição uniforme:"
      ]
    },
    {
      "cell_type": "code",
      "metadata": {
        "id": "xgCOeCnLkWnT",
        "colab": {
          "base_uri": "https://localhost:8080/"
        },
        "outputId": "ff10e868-f872-4625-fa12-5ae9d4980b01"
      },
      "source": [
        "np.random.rand(3,4)"
      ],
      "execution_count": 33,
      "outputs": [
        {
          "output_type": "execute_result",
          "data": {
            "text/plain": [
              "array([[0.34983012, 0.29848242, 0.42340581, 0.25891055],\n",
              "       [0.35452487, 0.42015139, 0.43773602, 0.23192162],\n",
              "       [0.61489729, 0.41273389, 0.9707206 , 0.62827573]])"
            ]
          },
          "metadata": {},
          "execution_count": 33
        }
      ]
    },
    {
      "cell_type": "markdown",
      "metadata": {
        "id": "wJ5O6QOvNYOv"
      },
      "source": [
        "Abaixo um matriz inicializada com distribuição gaussiana ([normal distribution](https://en.wikipedia.org/wiki/Normal_distribution)) com média 0 e variância 1"
      ]
    },
    {
      "cell_type": "code",
      "metadata": {
        "id": "YzbgYn_4kbTp",
        "colab": {
          "base_uri": "https://localhost:8080/"
        },
        "outputId": "d889a045-d3cd-47b1-e512-5a55d1ef2e90"
      },
      "source": [
        "np.random.randn(3,4)"
      ],
      "execution_count": 34,
      "outputs": [
        {
          "output_type": "execute_result",
          "data": {
            "text/plain": [
              "array([[ 0.28693863, -1.20237399, -0.1400882 , -0.96209863],\n",
              "       [ 0.21448052,  0.23002815,  0.16741866, -0.8512831 ],\n",
              "       [ 0.87770655, -0.13790548,  0.10805065,  0.6187163 ]])"
            ]
          },
          "metadata": {},
          "execution_count": 34
        }
      ]
    },
    {
      "cell_type": "markdown",
      "metadata": {
        "id": "NHZ0hdo5mpir"
      },
      "source": [
        "**ToDo** : Vamos usar a biblioteca matplotlib (para mais detalhes veja [matplotlib tutorial](https://drive.google.com/file/d/1f3Y_gm-URBVov5wIOs-JrdNw0gK86EXL/view?usp=sharing)) para plotar dois arrays de tamanho 10000, um inicializado com distribuição normal e o outro com uniforme"
      ]
    },
    {
      "cell_type": "code",
      "metadata": {
        "id": "Pk6XqokcnBLs"
      },
      "source": [
        "%matplotlib inline\n",
        "import matplotlib.pyplot as plt"
      ],
      "execution_count": 35,
      "outputs": []
    },
    {
      "cell_type": "code",
      "metadata": {
        "id": "yAjUzzS5nFNY"
      },
      "source": [
        "array_a = np.random.rand(1000) # ToDo : complete\n",
        "array_b = np.random.randn(1000) # ToDo : complete"
      ],
      "execution_count": 36,
      "outputs": []
    },
    {
      "cell_type": "code",
      "metadata": {
        "id": "QaVSaHDanFX7",
        "colab": {
          "base_uri": "https://localhost:8080/",
          "height": 296
        },
        "outputId": "bdf94d54-9d30-498a-a455-c0e0fcb10235"
      },
      "source": [
        "plt.hist(array_a, density=True, bins=100, histtype=\"step\", color=\"blue\", label=\"rand\")\n",
        "plt.hist(array_b, density=True, bins=100, histtype=\"step\", color=\"red\", label=\"randn\")\n",
        "plt.axis([-2.5, 2.5, 0, 1.1])\n",
        "plt.legend(loc = \"upper left\")\n",
        "plt.title(\"Distribuições aleatṍrias\")\n",
        "plt.xlabel(\"Valor\")\n",
        "plt.ylabel(\"Densidade\")\n",
        "plt.show()"
      ],
      "execution_count": 37,
      "outputs": [
        {
          "output_type": "display_data",
          "data": {
            "text/plain": [
              "<Figure size 432x288 with 1 Axes>"
            ],
            "image/png": "[encoded data removed]"
          },
          "metadata": {
            "needs_background": "light"
          }
        }
      ]
    },
    {
      "cell_type": "markdown",
      "metadata": {
        "id": "hqg3Mkz3nt6i"
      },
      "source": [
        "# Tipo de dados \n",
        "## `dtype`\n",
        "Você pode ver qual o tipo de dado pelo atributo `dtype`. Verifique abaixo:"
      ]
    },
    {
      "cell_type": "code",
      "metadata": {
        "id": "_8RjI5j-n38c",
        "colab": {
          "base_uri": "https://localhost:8080/"
        },
        "outputId": "473da7b8-019a-4bad-f0b4-805d4ffdbb38"
      },
      "source": [
        "c = np.arange(1, 5)\n",
        "print(c.dtype, c)"
      ],
      "execution_count": 38,
      "outputs": [
        {
          "output_type": "stream",
          "name": "stdout",
          "text": [
            "int64 [1 2 3 4]\n"
          ]
        }
      ]
    },
    {
      "cell_type": "code",
      "metadata": {
        "id": "FE2DlBhkn9CE",
        "colab": {
          "base_uri": "https://localhost:8080/"
        },
        "outputId": "ed78a794-b77d-41d4-e77c-b191591fd931"
      },
      "source": [
        "c = np.arange(1.0, 5.0)\n",
        "print(c.dtype, c)"
      ],
      "execution_count": 39,
      "outputs": [
        {
          "output_type": "stream",
          "name": "stdout",
          "text": [
            "float64 [1. 2. 3. 4.]\n"
          ]
        }
      ]
    },
    {
      "cell_type": "markdown",
      "metadata": {
        "id": "ylFtnobMoDof"
      },
      "source": [
        "Tipos disponĩveis: `int8`, `int16`, `int32`, `int64`, `uint8`|`16`|`32`|`64`, `float16`|`32`|`64` e `complex64`|`128`. Veja a [documentação](http://docs.scipy.org/doc/numpy-1.10.1/user/basics.types.html) para a lista completa.\n",
        "\n",
        "## `itemsize`\n",
        "O atributo `itemsize` retorna o tamanho em bytes"
      ]
    },
    {
      "cell_type": "code",
      "metadata": {
        "id": "94eTv9JWoCDi",
        "colab": {
          "base_uri": "https://localhost:8080/"
        },
        "outputId": "ec377ade-2bea-448a-df19-9960e2dc3b73"
      },
      "source": [
        "e = np.arange(1, 5, dtype=np.complex64)\n",
        "e.itemsize"
      ],
      "execution_count": 40,
      "outputs": [
        {
          "output_type": "execute_result",
          "data": {
            "text/plain": [
              "8"
            ]
          },
          "metadata": {},
          "execution_count": 40
        }
      ]
    },
    {
      "cell_type": "code",
      "metadata": {
        "id": "GqBdud2Kocn4",
        "colab": {
          "base_uri": "https://localhost:8080/"
        },
        "outputId": "62ba563e-29c9-43c7-9b7a-d5bfb2d76284"
      },
      "source": [
        "# na memória, um array ẽ armazenado de forma contígua\n",
        "f = np.array([[1,2],[1000, 2000]], dtype=np.int32)\n",
        "f.data"
      ],
      "execution_count": 41,
      "outputs": [
        {
          "output_type": "execute_result",
          "data": {
            "text/plain": [
              "<memory at 0x7fe45492dad0>"
            ]
          },
          "metadata": {},
          "execution_count": 41
        }
      ]
    },
    {
      "cell_type": "markdown",
      "metadata": {
        "id": "HlJ5vj9Gol53"
      },
      "source": [
        "# Reshaping \n",
        "\n",
        "Alterar o shape de uma array é muto fácil com NumPy e muito útil para adequação das matrizes para métodos de machine learning. Contudo, o tamanho (size) não pode ser alterado."
      ]
    },
    {
      "cell_type": "code",
      "metadata": {
        "id": "uXu0PAwgo811",
        "colab": {
          "base_uri": "https://localhost:8080/"
        },
        "outputId": "02a30f91-ea33-4ce1-bbc7-d1a7ae119b31"
      },
      "source": [
        "# o núemro de dimensões também é chamado de rank\n",
        "g = np.arange(24)\n",
        "print(g)\n",
        "print(\"Rank:\", g.ndim)"
      ],
      "execution_count": 42,
      "outputs": [
        {
          "output_type": "stream",
          "name": "stdout",
          "text": [
            "[ 0  1  2  3  4  5  6  7  8  9 10 11 12 13 14 15 16 17 18 19 20 21 22 23]\n",
            "Rank: 1\n"
          ]
        }
      ]
    },
    {
      "cell_type": "code",
      "metadata": {
        "id": "xRWmC6FUpDHX",
        "colab": {
          "base_uri": "https://localhost:8080/"
        },
        "outputId": "45b264af-acda-42bc-fd87-660b76584882"
      },
      "source": [
        "g.shape = (6, 4)\n",
        "print(g)\n",
        "print(\"Rank:\", g.ndim)"
      ],
      "execution_count": 43,
      "outputs": [
        {
          "output_type": "stream",
          "name": "stdout",
          "text": [
            "[[ 0  1  2  3]\n",
            " [ 4  5  6  7]\n",
            " [ 8  9 10 11]\n",
            " [12 13 14 15]\n",
            " [16 17 18 19]\n",
            " [20 21 22 23]]\n",
            "Rank: 2\n"
          ]
        }
      ]
    },
    {
      "cell_type": "code",
      "metadata": {
        "id": "mH34bpWSpG9O",
        "colab": {
          "base_uri": "https://localhost:8080/"
        },
        "outputId": "eea48dfa-0fe1-4be9-8357-f28a67d62465"
      },
      "source": [
        "g.shape = (2, 3, 4)\n",
        "print(g)\n",
        "print(\"Rank:\", g.ndim)"
      ],
      "execution_count": 44,
      "outputs": [
        {
          "output_type": "stream",
          "name": "stdout",
          "text": [
            "[[[ 0  1  2  3]\n",
            "  [ 4  5  6  7]\n",
            "  [ 8  9 10 11]]\n",
            "\n",
            " [[12 13 14 15]\n",
            "  [16 17 18 19]\n",
            "  [20 21 22 23]]]\n",
            "Rank: 3\n"
          ]
        }
      ]
    },
    {
      "cell_type": "markdown",
      "metadata": {
        "id": "R9nZuFMVpMg7"
      },
      "source": [
        "reshape"
      ]
    },
    {
      "cell_type": "code",
      "metadata": {
        "id": "7z_UhY_FpLYl",
        "colab": {
          "base_uri": "https://localhost:8080/"
        },
        "outputId": "0d0a786a-f928-4c0f-bb34-07a2f0c84d9b"
      },
      "source": [
        "g2 = g.reshape(4,6)\n",
        "print(g2)\n",
        "print(\"Rank:\", g2.ndim)"
      ],
      "execution_count": 45,
      "outputs": [
        {
          "output_type": "stream",
          "name": "stdout",
          "text": [
            "[[ 0  1  2  3  4  5]\n",
            " [ 6  7  8  9 10 11]\n",
            " [12 13 14 15 16 17]\n",
            " [18 19 20 21 22 23]]\n",
            "Rank: 2\n"
          ]
        }
      ]
    },
    {
      "cell_type": "code",
      "metadata": {
        "id": "_n_4kK7JpRW7",
        "colab": {
          "base_uri": "https://localhost:8080/"
        },
        "outputId": "99979c5a-81ff-457b-9bbf-d9e3e969d95c"
      },
      "source": [
        "# Pode-se alterar diretamente um item da matriz, pelo índice\n",
        "g2[1, 2] = 999\n",
        "g2"
      ],
      "execution_count": 46,
      "outputs": [
        {
          "output_type": "execute_result",
          "data": {
            "text/plain": [
              "array([[  0,   1,   2,   3,   4,   5],\n",
              "       [  6,   7, 999,   9,  10,  11],\n",
              "       [ 12,  13,  14,  15,  16,  17],\n",
              "       [ 18,  19,  20,  21,  22,  23]])"
            ]
          },
          "metadata": {},
          "execution_count": 46
        }
      ]
    },
    {
      "cell_type": "code",
      "metadata": {
        "id": "gHX2ECfDpYUb",
        "colab": {
          "base_uri": "https://localhost:8080/"
        },
        "outputId": "3801d71c-66dd-4d76-ab99-49da1b2d898f"
      },
      "source": [
        "g"
      ],
      "execution_count": 47,
      "outputs": [
        {
          "output_type": "execute_result",
          "data": {
            "text/plain": [
              "array([[[  0,   1,   2,   3],\n",
              "        [  4,   5,   6,   7],\n",
              "        [999,   9,  10,  11]],\n",
              "\n",
              "       [[ 12,  13,  14,  15],\n",
              "        [ 16,  17,  18,  19],\n",
              "        [ 20,  21,  22,  23]]])"
            ]
          },
          "metadata": {},
          "execution_count": 47
        }
      ]
    },
    {
      "cell_type": "code",
      "metadata": {
        "id": "Bwg-2bnFpZPp"
      },
      "source": [
        "#repare que o objeto 'g' foi modificado também!"
      ],
      "execution_count": 48,
      "outputs": []
    },
    {
      "cell_type": "markdown",
      "metadata": {
        "id": "cAxT-zxVps9R"
      },
      "source": [
        "Todas a operçãoes aritméticas comuns podem ser feitas com o ndarray"
      ]
    },
    {
      "cell_type": "code",
      "metadata": {
        "id": "9FxqdcOWpz1R",
        "colab": {
          "base_uri": "https://localhost:8080/"
        },
        "outputId": "396abae7-33e4-477d-92f1-101117ab6e91"
      },
      "source": [
        "a = np.array([14, 23, 32, 41])\n",
        "b = np.array([5,  4,  3,  2])\n",
        "print(\"a + b  =\", a + b)\n",
        "print(\"a - b  =\", a - b)\n",
        "print(\"a * b  =\", a * b)\n",
        "print(\"a / b  =\", a / b)\n",
        "print(\"a // b  =\", a // b)\n",
        "print(\"a % b  =\", a % b)\n",
        "print(\"a ** b =\", a ** b)"
      ],
      "execution_count": 49,
      "outputs": [
        {
          "output_type": "stream",
          "name": "stdout",
          "text": [
            "a + b  = [19 27 35 43]\n",
            "a - b  = [ 9 19 29 39]\n",
            "a * b  = [70 92 96 82]\n",
            "a / b  = [ 2.8         5.75       10.66666667 20.5       ]\n",
            "a // b  = [ 2  5 10 20]\n",
            "a % b  = [4 3 2 1]\n",
            "a ** b = [537824 279841  32768   1681]\n"
          ]
        }
      ]
    },
    {
      "cell_type": "markdown",
      "metadata": {
        "id": "KvavA4ZLp5Do"
      },
      "source": [
        "Repare que a multiplicação acima NÃO é um multiplicação de martizes\n",
        "\n",
        "Arrays devem ter o mesmo shape, caso contrário, NumPy vai aplicar a regra de *broadcasting* (Ver seção 2.1.3 do [livro texto](http://d2l.ai/chapter_preliminaries/ndarray.html)). Pesquise sobre a operação ed bradcasting do NumPy e explique com suas palavras, abaixo:"
      ]
    },
    {
      "cell_type": "markdown",
      "metadata": {
        "id": "UkwokiI-qXzY"
      },
      "source": [
        "**ToDo** : Explique aqui o conceito de broadcasting\n",
        "\n",
        "O termo broadcasting descreve como o NumPy efetua operações em arrays com formas(shape) diferentes durante operações aritméticas. O processo de broadcasting tenta igualar as formas das matrizes para realizar algumas operações, geralmente alterando o número de linhas e/ou colunas da menor matriz pela duplicação de elementos da mesma.\n",
        "\n",
        "Exemplo:\n"
      ]
    },
    {
      "cell_type": "code",
      "source": [
        "a = np.array([1.0, 2.0, 3.0])\n",
        "b = np.array([2])\n",
        "a * b\n",
        "\n",
        "# Neste caso o broadcasting expandiu o array b que era [2] para [2, 2, 2]\n",
        "# e depois realizou a multiplicação"
      ],
      "metadata": {
        "colab": {
          "base_uri": "https://localhost:8080/"
        },
        "id": "iMBvI8dy9AAs",
        "outputId": "dd656f35-1153-4316-c006-6a279c019df1"
      },
      "execution_count": 54,
      "outputs": [
        {
          "output_type": "execute_result",
          "data": {
            "text/plain": [
              "array([2., 4., 6.])"
            ]
          },
          "metadata": {},
          "execution_count": 54
        }
      ]
    },
    {
      "cell_type": "markdown",
      "metadata": {
        "id": "KrNWG2EBqokb"
      },
      "source": [
        "# Iterando : repare que você pode iterar pelos ndarrays. Repare que a iteração é feita pelos axis."
      ]
    },
    {
      "cell_type": "code",
      "metadata": {
        "id": "NufhSS2Cqree",
        "colab": {
          "base_uri": "https://localhost:8080/"
        },
        "outputId": "3fd45f2c-b078-4eaf-c0d7-973f9b39d0e1"
      },
      "source": [
        "c = np.arange(24).reshape(2, 3, 4)  # A 3D array (composed of two 3x4 matrices)\n",
        "c"
      ],
      "execution_count": 55,
      "outputs": [
        {
          "output_type": "execute_result",
          "data": {
            "text/plain": [
              "array([[[ 0,  1,  2,  3],\n",
              "        [ 4,  5,  6,  7],\n",
              "        [ 8,  9, 10, 11]],\n",
              "\n",
              "       [[12, 13, 14, 15],\n",
              "        [16, 17, 18, 19],\n",
              "        [20, 21, 22, 23]]])"
            ]
          },
          "metadata": {},
          "execution_count": 55
        }
      ]
    },
    {
      "cell_type": "code",
      "metadata": {
        "id": "Kuyq7oUjp4vg",
        "colab": {
          "base_uri": "https://localhost:8080/"
        },
        "outputId": "c77bb28f-b515-4794-e146-502be155080c"
      },
      "source": [
        "for m in c:\n",
        "    print(\"Item:\")\n",
        "    print(m)"
      ],
      "execution_count": 56,
      "outputs": [
        {
          "output_type": "stream",
          "name": "stdout",
          "text": [
            "Item:\n",
            "[[ 0  1  2  3]\n",
            " [ 4  5  6  7]\n",
            " [ 8  9 10 11]]\n",
            "Item:\n",
            "[[12 13 14 15]\n",
            " [16 17 18 19]\n",
            " [20 21 22 23]]\n"
          ]
        }
      ]
    },
    {
      "cell_type": "code",
      "metadata": {
        "id": "rS5NbTS2rArD",
        "colab": {
          "base_uri": "https://localhost:8080/"
        },
        "outputId": "c1dc29f1-c24f-4ee3-9f79-4f02e4371589"
      },
      "source": [
        "for i in range(len(c)):  # Note that len(c) == c.shape[0]\n",
        "    print(\"Item:\")\n",
        "    print(c[i])"
      ],
      "execution_count": 57,
      "outputs": [
        {
          "output_type": "stream",
          "name": "stdout",
          "text": [
            "Item:\n",
            "[[ 0  1  2  3]\n",
            " [ 4  5  6  7]\n",
            " [ 8  9 10 11]]\n",
            "Item:\n",
            "[[12 13 14 15]\n",
            " [16 17 18 19]\n",
            " [20 21 22 23]]\n"
          ]
        }
      ]
    },
    {
      "cell_type": "code",
      "metadata": {
        "id": "hXMSTO3MrDP4",
        "colab": {
          "base_uri": "https://localhost:8080/"
        },
        "outputId": "683c07b6-7aa3-4a99-82ef-87271a078ad2"
      },
      "source": [
        "# para iteirar por todos os elementos\n",
        "for i in c.flat:\n",
        "    print(\"Item:\", i)"
      ],
      "execution_count": 58,
      "outputs": [
        {
          "output_type": "stream",
          "name": "stdout",
          "text": [
            "Item: 0\n",
            "Item: 1\n",
            "Item: 2\n",
            "Item: 3\n",
            "Item: 4\n",
            "Item: 5\n",
            "Item: 6\n",
            "Item: 7\n",
            "Item: 8\n",
            "Item: 9\n",
            "Item: 10\n",
            "Item: 11\n",
            "Item: 12\n",
            "Item: 13\n",
            "Item: 14\n",
            "Item: 15\n",
            "Item: 16\n",
            "Item: 17\n",
            "Item: 18\n",
            "Item: 19\n",
            "Item: 20\n",
            "Item: 21\n",
            "Item: 22\n",
            "Item: 23\n"
          ]
        }
      ]
    },
    {
      "cell_type": "markdown",
      "metadata": {
        "id": "1RznKDthrLfn"
      },
      "source": [
        "# Concatenando arrays"
      ]
    },
    {
      "cell_type": "code",
      "metadata": {
        "id": "WRQVwQxnrM-f",
        "colab": {
          "base_uri": "https://localhost:8080/"
        },
        "outputId": "c2f5bfe5-4e56-4b59-9761-8db6b02101aa"
      },
      "source": [
        "# pode-se concatenar arrays pelos axis\n",
        "q1 = np.full((3,4), 1.0)\n",
        "\n",
        "q2 = np.full((4,4), 2.0)\n",
        "\n",
        "q3 = np.full((3,4), 3.0)\n",
        "\n",
        "q = np.concatenate((q1, q2, q3), axis=0)  \n",
        "q"
      ],
      "execution_count": 60,
      "outputs": [
        {
          "output_type": "execute_result",
          "data": {
            "text/plain": [
              "array([[1., 1., 1., 1.],\n",
              "       [1., 1., 1., 1.],\n",
              "       [1., 1., 1., 1.],\n",
              "       [2., 2., 2., 2.],\n",
              "       [2., 2., 2., 2.],\n",
              "       [2., 2., 2., 2.],\n",
              "       [2., 2., 2., 2.],\n",
              "       [3., 3., 3., 3.],\n",
              "       [3., 3., 3., 3.],\n",
              "       [3., 3., 3., 3.]])"
            ]
          },
          "metadata": {},
          "execution_count": 60
        }
      ]
    },
    {
      "cell_type": "markdown",
      "metadata": {
        "id": "s3XuK6yLrgBk"
      },
      "source": [
        "# Transposta\n"
      ]
    },
    {
      "cell_type": "code",
      "metadata": {
        "id": "q7dSfS0zrhVi",
        "colab": {
          "base_uri": "https://localhost:8080/"
        },
        "outputId": "5c51655b-499c-4fd6-b441-d5469e27bdc1"
      },
      "source": [
        "m1 = np.arange(10).reshape(2,5)\n",
        "m1"
      ],
      "execution_count": 61,
      "outputs": [
        {
          "output_type": "execute_result",
          "data": {
            "text/plain": [
              "array([[0, 1, 2, 3, 4],\n",
              "       [5, 6, 7, 8, 9]])"
            ]
          },
          "metadata": {},
          "execution_count": 61
        }
      ]
    },
    {
      "cell_type": "code",
      "metadata": {
        "id": "B6R2PFoirpKd",
        "colab": {
          "base_uri": "https://localhost:8080/"
        },
        "outputId": "1362485d-fa2c-4b94-a2e9-e61fe41dcdfe"
      },
      "source": [
        "# ToDo : imprima a matriz transposta de m1\n",
        "m2 = np.array(list(zip(m1[0], m1[1])))\n",
        "m2"
      ],
      "execution_count": 69,
      "outputs": [
        {
          "output_type": "execute_result",
          "data": {
            "text/plain": [
              "array([[0, 5],\n",
              "       [1, 6],\n",
              "       [2, 7],\n",
              "       [3, 8],\n",
              "       [4, 9]])"
            ]
          },
          "metadata": {},
          "execution_count": 69
        }
      ]
    },
    {
      "cell_type": "markdown",
      "metadata": {
        "id": "pgGS5pqJr9lR"
      },
      "source": [
        "# Produto de matrizes"
      ]
    },
    {
      "cell_type": "code",
      "metadata": {
        "id": "TGqupKabr-yf",
        "colab": {
          "base_uri": "https://localhost:8080/"
        },
        "outputId": "c31cafb3-6f11-48b0-f15a-0bc84176d68b"
      },
      "source": [
        "n1 = np.arange(10).reshape(2, 5)\n",
        "n1"
      ],
      "execution_count": 70,
      "outputs": [
        {
          "output_type": "execute_result",
          "data": {
            "text/plain": [
              "array([[0, 1, 2, 3, 4],\n",
              "       [5, 6, 7, 8, 9]])"
            ]
          },
          "metadata": {},
          "execution_count": 70
        }
      ]
    },
    {
      "cell_type": "code",
      "metadata": {
        "id": "pp96FkvQsAlh",
        "colab": {
          "base_uri": "https://localhost:8080/"
        },
        "outputId": "a6cd282d-dd74-48af-e58f-48d9fb9c57aa"
      },
      "source": [
        "n2 = np.arange(15).reshape(5,3)\n",
        "n2"
      ],
      "execution_count": 71,
      "outputs": [
        {
          "output_type": "execute_result",
          "data": {
            "text/plain": [
              "array([[ 0,  1,  2],\n",
              "       [ 3,  4,  5],\n",
              "       [ 6,  7,  8],\n",
              "       [ 9, 10, 11],\n",
              "       [12, 13, 14]])"
            ]
          },
          "metadata": {},
          "execution_count": 71
        }
      ]
    },
    {
      "cell_type": "code",
      "metadata": {
        "id": "2d1Ds0AVsDa7",
        "colab": {
          "base_uri": "https://localhost:8080/"
        },
        "outputId": "139577fa-1643-417f-fc6b-b89f6ce84752"
      },
      "source": [
        "n1.dot(n2)"
      ],
      "execution_count": 72,
      "outputs": [
        {
          "output_type": "execute_result",
          "data": {
            "text/plain": [
              "array([[ 90, 100, 110],\n",
              "       [240, 275, 310]])"
            ]
          },
          "metadata": {},
          "execution_count": 72
        }
      ]
    },
    {
      "cell_type": "markdown",
      "metadata": {
        "id": "frQ6zLAsx1pt"
      },
      "source": [
        "# Matriz Inversa"
      ]
    },
    {
      "cell_type": "code",
      "metadata": {
        "id": "gyUBiYy8x4Zb",
        "colab": {
          "base_uri": "https://localhost:8080/"
        },
        "outputId": "b75aa519-eae8-409b-ad65-df8cc1de5685"
      },
      "source": [
        "import numpy.linalg as linalg\n",
        "\n",
        "m3 = np.array([[1,2,3],[5,7,11],[21,29,31]])\n",
        "m3"
      ],
      "execution_count": 73,
      "outputs": [
        {
          "output_type": "execute_result",
          "data": {
            "text/plain": [
              "array([[ 1,  2,  3],\n",
              "       [ 5,  7, 11],\n",
              "       [21, 29, 31]])"
            ]
          },
          "metadata": {},
          "execution_count": 73
        }
      ]
    },
    {
      "cell_type": "code",
      "metadata": {
        "id": "Fmofch4Nx6rG",
        "colab": {
          "base_uri": "https://localhost:8080/"
        },
        "outputId": "2e5ccfac-cadc-4405-edb0-9b794936bf65"
      },
      "source": [
        "linalg.inv(m3)"
      ],
      "execution_count": 74,
      "outputs": [
        {
          "output_type": "execute_result",
          "data": {
            "text/plain": [
              "array([[-2.31818182,  0.56818182,  0.02272727],\n",
              "       [ 1.72727273, -0.72727273,  0.09090909],\n",
              "       [-0.04545455,  0.29545455, -0.06818182]])"
            ]
          },
          "metadata": {},
          "execution_count": 74
        }
      ]
    },
    {
      "cell_type": "markdown",
      "metadata": {
        "id": "akbN2w1yyAs0"
      },
      "source": [
        "# Matriz identidade"
      ]
    },
    {
      "cell_type": "code",
      "metadata": {
        "id": "XCdstJwQx_4J",
        "colab": {
          "base_uri": "https://localhost:8080/"
        },
        "outputId": "e2d27609-50d4-4995-e5b7-e8686db24642"
      },
      "source": [
        "m3.dot(linalg.inv(m3))"
      ],
      "execution_count": 75,
      "outputs": [
        {
          "output_type": "execute_result",
          "data": {
            "text/plain": [
              "array([[ 1.00000000e+00, -1.66533454e-16,  0.00000000e+00],\n",
              "       [ 6.31439345e-16,  1.00000000e+00, -1.38777878e-16],\n",
              "       [ 5.21110932e-15, -2.38697950e-15,  1.00000000e+00]])"
            ]
          },
          "metadata": {},
          "execution_count": 75
        }
      ]
    },
    {
      "cell_type": "markdown",
      "metadata": {
        "id": "wLh0HtBF5iAQ"
      },
      "source": [
        "# Comparando os objetos de array\n",
        "\n",
        "Os objetos do tipo array das bibliotecas de deep learning (tensorflow, pytorch, mxnet) são muito parecedios com o do NumPy. Porém, otimizados. Crie um objeto do tipo NDArray do MXNet e compare a performance contra o objeto do NumPy."
      ]
    },
    {
      "cell_type": "code",
      "metadata": {
        "id": "b5w-Rc8j6OG9",
        "colab": {
          "base_uri": "https://localhost:8080/"
        },
        "outputId": "9e687229-be99-49cf-aadd-546f784e79ab"
      },
      "source": [
        "!pip install -U mxnet-cu101==1.7.0\n",
        "from mxnet import nd, gpu, gluon, autograd\n",
        "import mxnet as mx\n",
        "from mxnet.gluon import nn\n",
        "import time"
      ],
      "execution_count": 76,
      "outputs": [
        {
          "output_type": "stream",
          "name": "stdout",
          "text": [
            "Looking in indexes: https://pypi.org/simple, https://us-python.pkg.dev/colab-wheels/public/simple/\n",
            "Collecting mxnet-cu101==1.7.0\n",
            "  Downloading mxnet_cu101-1.7.0-py2.py3-none-manylinux2014_x86_64.whl (846.0 MB)\n",
            "\u001b[K     |███████████████████████████████▌| 834.1 MB 1.3 MB/s eta 0:00:09tcmalloc: large alloc 1147494400 bytes == 0x3a240000 @  0x7f169c69c615 0x592b76 0x4df71e 0x59afff 0x515655 0x549576 0x593fce 0x548ae9 0x51566f 0x549576 0x593fce 0x548ae9 0x5127f1 0x598e3b 0x511f68 0x598e3b 0x511f68 0x598e3b 0x511f68 0x4bc98a 0x532e76 0x594b72 0x515600 0x549576 0x593fce 0x548ae9 0x5127f1 0x549576 0x593fce 0x5118f8 0x593dd7\n",
            "\u001b[K     |████████████████████████████████| 846.0 MB 17 kB/s \n",
            "\u001b[?25hRequirement already satisfied: requests<3,>=2.20.0 in /usr/local/lib/python3.7/dist-packages (from mxnet-cu101==1.7.0) (2.23.0)\n",
            "Requirement already satisfied: numpy<2.0.0,>1.16.0 in /usr/local/lib/python3.7/dist-packages (from mxnet-cu101==1.7.0) (1.21.6)\n",
            "Collecting graphviz<0.9.0,>=0.8.1\n",
            "  Downloading graphviz-0.8.4-py2.py3-none-any.whl (16 kB)\n",
            "Requirement already satisfied: urllib3!=1.25.0,!=1.25.1,<1.26,>=1.21.1 in /usr/local/lib/python3.7/dist-packages (from requests<3,>=2.20.0->mxnet-cu101==1.7.0) (1.24.3)\n",
            "Requirement already satisfied: idna<3,>=2.5 in /usr/local/lib/python3.7/dist-packages (from requests<3,>=2.20.0->mxnet-cu101==1.7.0) (2.10)\n",
            "Requirement already satisfied: certifi>=2017.4.17 in /usr/local/lib/python3.7/dist-packages (from requests<3,>=2.20.0->mxnet-cu101==1.7.0) (2022.6.15)\n",
            "Requirement already satisfied: chardet<4,>=3.0.2 in /usr/local/lib/python3.7/dist-packages (from requests<3,>=2.20.0->mxnet-cu101==1.7.0) (3.0.4)\n",
            "Installing collected packages: graphviz, mxnet-cu101\n",
            "  Attempting uninstall: graphviz\n",
            "    Found existing installation: graphviz 0.10.1\n",
            "    Uninstalling graphviz-0.10.1:\n",
            "      Successfully uninstalled graphviz-0.10.1\n",
            "Successfully installed graphviz-0.8.4 mxnet-cu101-1.7.0\n"
          ]
        }
      ]
    },
    {
      "cell_type": "code",
      "metadata": {
        "id": "eJxdgfnM6U3O",
        "colab": {
          "base_uri": "https://localhost:8080/"
        },
        "outputId": "f450b3bf-3b83-44b1-8ea8-9f5a2cf385e5"
      },
      "source": [
        "#criando um array com ndarray do mxnet\n",
        "nd.array(( (1,2,3), (4,5,6) ))"
      ],
      "execution_count": 77,
      "outputs": [
        {
          "output_type": "execute_result",
          "data": {
            "text/plain": [
              "\n",
              "[[1. 2. 3.]\n",
              " [4. 5. 6.]]\n",
              "<NDArray 2x3 @cpu(0)>"
            ]
          },
          "metadata": {},
          "execution_count": 77
        }
      ]
    },
    {
      "cell_type": "code",
      "metadata": {
        "id": "RiEtV1ja6eCx",
        "colab": {
          "base_uri": "https://localhost:8080/"
        },
        "outputId": "f69d19bd-39db-4d01-9916-d05462a3f2e3"
      },
      "source": [
        "# crianod-se uma matriz \n",
        "x = nd.ones(shape = (2,3))\n",
        "x"
      ],
      "execution_count": 78,
      "outputs": [
        {
          "output_type": "execute_result",
          "data": {
            "text/plain": [
              "\n",
              "[[1. 1. 1.]\n",
              " [1. 1. 1.]]\n",
              "<NDArray 2x3 @cpu(0)>"
            ]
          },
          "metadata": {},
          "execution_count": 78
        }
      ]
    },
    {
      "cell_type": "markdown",
      "metadata": {
        "id": "f1Or1rlL6kVj"
      },
      "source": [
        "O objeto NDArray do MXNet também possui as funções de criação de números aleatórios e de algebra, feito as do NumPy."
      ]
    },
    {
      "cell_type": "code",
      "metadata": {
        "id": "1ddJW3R-6unT",
        "colab": {
          "base_uri": "https://localhost:8080/"
        },
        "outputId": "0fa4d4b3-271b-45f2-c437-cf3c9c930803"
      },
      "source": [
        "#criando uma matrix uniforme aleatoria, com valores entre -1 e 1\n",
        "y = nd.random.uniform(low=-1, high=1, shape = (2,3))\n",
        "y"
      ],
      "execution_count": 79,
      "outputs": [
        {
          "output_type": "execute_result",
          "data": {
            "text/plain": [
              "\n",
              "[[0.09762704 0.18568921 0.43037868]\n",
              " [0.6885315  0.20552671 0.71589124]]\n",
              "<NDArray 2x3 @cpu(0)>"
            ]
          },
          "metadata": {},
          "execution_count": 79
        }
      ]
    },
    {
      "cell_type": "markdown",
      "metadata": {
        "id": "GmvsLAc-62kh"
      },
      "source": [
        "Diferentemente do numpy, NDArray me permite colocar os dados em alguma CPU especĩfica ou em alguma GPU : repare no contexto!"
      ]
    },
    {
      "cell_type": "code",
      "metadata": {
        "id": "AF4LV7pI6z4z",
        "colab": {
          "base_uri": "https://localhost:8080/"
        },
        "outputId": "9a099f11-63c4-43fc-c662-f88d71c4f76e"
      },
      "source": [
        "# shape e tamanho da matriz\n",
        "# os outros parâmetros são o tipo de dados e contexto\n",
        "\n",
        "(x.shape, x.size, x.dtype, x.context)"
      ],
      "execution_count": 80,
      "outputs": [
        {
          "output_type": "execute_result",
          "data": {
            "text/plain": [
              "((2, 3), 6, numpy.float32, cpu(0))"
            ]
          },
          "metadata": {},
          "execution_count": 80
        }
      ]
    },
    {
      "cell_type": "code",
      "metadata": {
        "id": "PKyN337a7B-U",
        "colab": {
          "base_uri": "https://localhost:8080/"
        },
        "outputId": "3c3c2bcf-a30b-40f5-acaa-284a61db471d"
      },
      "source": [
        "# pode-se definir o tipo de dados em tempo de criação \n",
        "nd.ones(shape = (2,3), dtype = np.uint8)"
      ],
      "execution_count": 81,
      "outputs": [
        {
          "output_type": "execute_result",
          "data": {
            "text/plain": [
              "\n",
              "[[1 1 1]\n",
              " [1 1 1]]\n",
              "<NDArray 2x3 @cpu(0)>"
            ]
          },
          "metadata": {},
          "execution_count": 81
        }
      ]
    },
    {
      "cell_type": "code",
      "metadata": {
        "id": "7Rqj6H2A7Et7",
        "colab": {
          "base_uri": "https://localhost:8080/"
        },
        "outputId": "700ab704-6433-4bd7-a0b6-a1213917a278"
      },
      "source": [
        "# ou pode-se alterar dinamicamente\n",
        "y.astype(np.float16)"
      ],
      "execution_count": 82,
      "outputs": [
        {
          "output_type": "execute_result",
          "data": {
            "text/plain": [
              "\n",
              "[[0.09766 0.1857  0.4304 ]\n",
              " [0.6885  0.2056  0.716  ]]\n",
              "<NDArray 2x3 @cpu(0)>"
            ]
          },
          "metadata": {},
          "execution_count": 82
        }
      ]
    },
    {
      "cell_type": "markdown",
      "metadata": {
        "id": "gueJx-f77Hni"
      },
      "source": [
        "Alocando na CPU"
      ]
    },
    {
      "cell_type": "code",
      "metadata": {
        "id": "rFGOHVNL7JML",
        "colab": {
          "base_uri": "https://localhost:8080/"
        },
        "outputId": "cb75b1b8-8a58-4bfe-9878-8727288b2e21"
      },
      "source": [
        "#NDArray permite alocar me CPU e GPU\n",
        "nd.ones(shape = (2,3), ctx=mx.cpu())"
      ],
      "execution_count": 83,
      "outputs": [
        {
          "output_type": "execute_result",
          "data": {
            "text/plain": [
              "\n",
              "[[1. 1. 1.]\n",
              " [1. 1. 1.]]\n",
              "<NDArray 2x3 @cpu(0)>"
            ]
          },
          "metadata": {},
          "execution_count": 83
        }
      ]
    },
    {
      "cell_type": "markdown",
      "metadata": {
        "id": "8CV6hLHz7LMh"
      },
      "source": [
        "Alocando na GPU"
      ]
    },
    {
      "cell_type": "code",
      "metadata": {
        "id": "fRjLVuCt7MfM",
        "colab": {
          "base_uri": "https://localhost:8080/",
          "height": 360
        },
        "outputId": "4913d066-e49b-4d98-da97-2f5005ce183c"
      },
      "source": [
        "nd.ones(shape = (2,3), ctx=mx.gpu())"
      ],
      "execution_count": 84,
      "outputs": [
        {
          "output_type": "error",
          "ename": "MXNetError",
          "evalue": "ignored",
          "traceback": [
            "\u001b[0;31m---------------------------------------------------------------------------\u001b[0m",
            "\u001b[0;31mMXNetError\u001b[0m                                Traceback (most recent call last)",
            "\u001b[0;32m<ipython-input-84-83ef3bb714ec>\u001b[0m in \u001b[0;36m<module>\u001b[0;34m()\u001b[0m\n\u001b[0;32m----> 1\u001b[0;31m \u001b[0mnd\u001b[0m\u001b[0;34m.\u001b[0m\u001b[0mones\u001b[0m\u001b[0;34m(\u001b[0m\u001b[0mshape\u001b[0m \u001b[0;34m=\u001b[0m \u001b[0;34m(\u001b[0m\u001b[0;36m2\u001b[0m\u001b[0;34m,\u001b[0m\u001b[0;36m3\u001b[0m\u001b[0;34m)\u001b[0m\u001b[0;34m,\u001b[0m \u001b[0mctx\u001b[0m\u001b[0;34m=\u001b[0m\u001b[0mmx\u001b[0m\u001b[0;34m.\u001b[0m\u001b[0mgpu\u001b[0m\u001b[0;34m(\u001b[0m\u001b[0;34m)\u001b[0m\u001b[0;34m)\u001b[0m\u001b[0;34m\u001b[0m\u001b[0;34m\u001b[0m\u001b[0m\n\u001b[0m",
            "\u001b[0;32m/usr/local/lib/python3.7/dist-packages/mxnet/ndarray/ndarray.py\u001b[0m in \u001b[0;36mones\u001b[0;34m(shape, ctx, dtype, **kwargs)\u001b[0m\n\u001b[1;32m   3293\u001b[0m     \u001b[0mdtype\u001b[0m \u001b[0;34m=\u001b[0m \u001b[0mmx_real_t\u001b[0m \u001b[0;32mif\u001b[0m \u001b[0mdtype\u001b[0m \u001b[0;32mis\u001b[0m \u001b[0;32mNone\u001b[0m \u001b[0;32melse\u001b[0m \u001b[0mdtype\u001b[0m\u001b[0;34m\u001b[0m\u001b[0;34m\u001b[0m\u001b[0m\n\u001b[1;32m   3294\u001b[0m     \u001b[0;31m# pylint: disable= no-member, protected-access\u001b[0m\u001b[0;34m\u001b[0m\u001b[0;34m\u001b[0m\u001b[0;34m\u001b[0m\u001b[0m\n\u001b[0;32m-> 3295\u001b[0;31m     \u001b[0;32mreturn\u001b[0m \u001b[0m_internal\u001b[0m\u001b[0;34m.\u001b[0m\u001b[0m_ones\u001b[0m\u001b[0;34m(\u001b[0m\u001b[0mshape\u001b[0m\u001b[0;34m=\u001b[0m\u001b[0mshape\u001b[0m\u001b[0;34m,\u001b[0m \u001b[0mctx\u001b[0m\u001b[0;34m=\u001b[0m\u001b[0mctx\u001b[0m\u001b[0;34m,\u001b[0m \u001b[0mdtype\u001b[0m\u001b[0;34m=\u001b[0m\u001b[0mdtype\u001b[0m\u001b[0;34m,\u001b[0m \u001b[0;34m**\u001b[0m\u001b[0mkwargs\u001b[0m\u001b[0;34m)\u001b[0m\u001b[0;34m\u001b[0m\u001b[0;34m\u001b[0m\u001b[0m\n\u001b[0m\u001b[1;32m   3296\u001b[0m     \u001b[0;31m# pylint: enable= no-member, protected-access\u001b[0m\u001b[0;34m\u001b[0m\u001b[0;34m\u001b[0m\u001b[0;34m\u001b[0m\u001b[0m\n\u001b[1;32m   3297\u001b[0m \u001b[0;34m\u001b[0m\u001b[0m\n",
            "\u001b[0;32m/usr/local/lib/python3.7/dist-packages/mxnet/ndarray/register.py\u001b[0m in \u001b[0;36m_ones\u001b[0;34m(shape, ctx, dtype, out, name, **kwargs)\u001b[0m\n",
            "\u001b[0;32m/usr/local/lib/python3.7/dist-packages/mxnet/_ctypes/ndarray.py\u001b[0m in \u001b[0;36m_imperative_invoke\u001b[0;34m(handle, ndargs, keys, vals, out, is_np_op, output_is_list)\u001b[0m\n\u001b[1;32m     89\u001b[0m         \u001b[0mc_str_array\u001b[0m\u001b[0;34m(\u001b[0m\u001b[0mkeys\u001b[0m\u001b[0;34m)\u001b[0m\u001b[0;34m,\u001b[0m\u001b[0;34m\u001b[0m\u001b[0;34m\u001b[0m\u001b[0m\n\u001b[1;32m     90\u001b[0m         \u001b[0mc_str_array\u001b[0m\u001b[0;34m(\u001b[0m\u001b[0;34m[\u001b[0m\u001b[0mstr\u001b[0m\u001b[0;34m(\u001b[0m\u001b[0ms\u001b[0m\u001b[0;34m)\u001b[0m \u001b[0;32mfor\u001b[0m \u001b[0ms\u001b[0m \u001b[0;32min\u001b[0m \u001b[0mvals\u001b[0m\u001b[0;34m]\u001b[0m\u001b[0;34m)\u001b[0m\u001b[0;34m,\u001b[0m\u001b[0;34m\u001b[0m\u001b[0;34m\u001b[0m\u001b[0m\n\u001b[0;32m---> 91\u001b[0;31m         ctypes.byref(out_stypes)))\n\u001b[0m\u001b[1;32m     92\u001b[0m \u001b[0;34m\u001b[0m\u001b[0m\n\u001b[1;32m     93\u001b[0m     \u001b[0mcreate_ndarray_fn\u001b[0m \u001b[0;34m=\u001b[0m \u001b[0m_global_var\u001b[0m\u001b[0;34m.\u001b[0m\u001b[0m_np_ndarray_cls\u001b[0m \u001b[0;32mif\u001b[0m \u001b[0mis_np_op\u001b[0m \u001b[0;32melse\u001b[0m \u001b[0m_global_var\u001b[0m\u001b[0;34m.\u001b[0m\u001b[0m_ndarray_cls\u001b[0m\u001b[0;34m\u001b[0m\u001b[0;34m\u001b[0m\u001b[0m\n",
            "\u001b[0;32m/usr/local/lib/python3.7/dist-packages/mxnet/base.py\u001b[0m in \u001b[0;36mcheck_call\u001b[0;34m(ret)\u001b[0m\n\u001b[1;32m    244\u001b[0m     \"\"\"\n\u001b[1;32m    245\u001b[0m     \u001b[0;32mif\u001b[0m \u001b[0mret\u001b[0m \u001b[0;34m!=\u001b[0m \u001b[0;36m0\u001b[0m\u001b[0;34m:\u001b[0m\u001b[0;34m\u001b[0m\u001b[0;34m\u001b[0m\u001b[0m\n\u001b[0;32m--> 246\u001b[0;31m         \u001b[0;32mraise\u001b[0m \u001b[0mget_last_ffi_error\u001b[0m\u001b[0;34m(\u001b[0m\u001b[0;34m)\u001b[0m\u001b[0;34m\u001b[0m\u001b[0;34m\u001b[0m\u001b[0m\n\u001b[0m\u001b[1;32m    247\u001b[0m \u001b[0;34m\u001b[0m\u001b[0m\n\u001b[1;32m    248\u001b[0m \u001b[0;34m\u001b[0m\u001b[0m\n",
            "\u001b[0;31mMXNetError\u001b[0m: Traceback (most recent call last):\n  File \"src/engine/threaded_engine.cc\", line 331\nMXNetError: Check failed: device_count_ > 0 (-1 vs. 0) : GPU usage requires at least 1 GPU"
          ]
        }
      ]
    },
    {
      "cell_type": "markdown",
      "metadata": {
        "id": "WJhQDr3c7SNe"
      },
      "source": [
        "**ToDo**:\n",
        "\n",
        "Crie 6 matrizes, com a função ones:\n",
        "\n",
        "- Uma de shape (10000, 5000) e outra com shape (5000, 10000), usando-se o objeto do NumPy.\n",
        "- Uma de shape (10000, 5000) e outra com shape (5000, 10000), usando-se o objeto do NDArray do MXNets, porém alocada em CPU.\n",
        "- Uma de shape (10000, 5000) e outra com shape (5000, 10000), usando-se o objeto do NDArray do MXNets, porém alocada em GPU."
      ]
    },
    {
      "cell_type": "code",
      "metadata": {
        "id": "3TZ7bWeR71UI",
        "colab": {
          "base_uri": "https://localhost:8080/",
          "height": 396
        },
        "outputId": "d2a98ed3-57f2-4670-cad2-929f050f54ad"
      },
      "source": [
        "x_np, y_np = np.ones((1000, 5000)), np.ones((5000, 10000)) # ToDo : complete\n",
        "\n",
        "x_nd_cpu , y_nd_cpu = nd.ones(shape = (1000, 5000), ctx=mx.cpu()), nd.ones(shape = (5000, 10000), ctx=mx.cpu()) # ToDo : complete\n",
        "\n",
        "x_nd_gpu , y_nd_gpu = nd.ones(shape = (1000, 5000), ctx=mx.gpu()), nd.ones(shape = (5000, 10000), ctx=mx.gpu())  # ToDo : complete"
      ],
      "execution_count": 85,
      "outputs": [
        {
          "output_type": "error",
          "ename": "MXNetError",
          "evalue": "ignored",
          "traceback": [
            "\u001b[0;31m---------------------------------------------------------------------------\u001b[0m",
            "\u001b[0;31mMXNetError\u001b[0m                                Traceback (most recent call last)",
            "\u001b[0;32m<ipython-input-85-c5c0dd2c231c>\u001b[0m in \u001b[0;36m<module>\u001b[0;34m()\u001b[0m\n\u001b[1;32m      3\u001b[0m \u001b[0mx_nd_cpu\u001b[0m \u001b[0;34m,\u001b[0m \u001b[0my_nd_cpu\u001b[0m \u001b[0;34m=\u001b[0m \u001b[0mnd\u001b[0m\u001b[0;34m.\u001b[0m\u001b[0mones\u001b[0m\u001b[0;34m(\u001b[0m\u001b[0mshape\u001b[0m \u001b[0;34m=\u001b[0m \u001b[0;34m(\u001b[0m\u001b[0;36m1000\u001b[0m\u001b[0;34m,\u001b[0m \u001b[0;36m5000\u001b[0m\u001b[0;34m)\u001b[0m\u001b[0;34m,\u001b[0m \u001b[0mctx\u001b[0m\u001b[0;34m=\u001b[0m\u001b[0mmx\u001b[0m\u001b[0;34m.\u001b[0m\u001b[0mcpu\u001b[0m\u001b[0;34m(\u001b[0m\u001b[0;34m)\u001b[0m\u001b[0;34m)\u001b[0m\u001b[0;34m,\u001b[0m \u001b[0mnd\u001b[0m\u001b[0;34m.\u001b[0m\u001b[0mones\u001b[0m\u001b[0;34m(\u001b[0m\u001b[0mshape\u001b[0m \u001b[0;34m=\u001b[0m \u001b[0;34m(\u001b[0m\u001b[0;36m5000\u001b[0m\u001b[0;34m,\u001b[0m \u001b[0;36m10000\u001b[0m\u001b[0;34m)\u001b[0m\u001b[0;34m,\u001b[0m \u001b[0mctx\u001b[0m\u001b[0;34m=\u001b[0m\u001b[0mmx\u001b[0m\u001b[0;34m.\u001b[0m\u001b[0mcpu\u001b[0m\u001b[0;34m(\u001b[0m\u001b[0;34m)\u001b[0m\u001b[0;34m)\u001b[0m \u001b[0;31m# ToDo : complete\u001b[0m\u001b[0;34m\u001b[0m\u001b[0;34m\u001b[0m\u001b[0m\n\u001b[1;32m      4\u001b[0m \u001b[0;34m\u001b[0m\u001b[0m\n\u001b[0;32m----> 5\u001b[0;31m \u001b[0mx_nd_gpu\u001b[0m \u001b[0;34m,\u001b[0m \u001b[0my_nd_gpu\u001b[0m \u001b[0;34m=\u001b[0m \u001b[0mnd\u001b[0m\u001b[0;34m.\u001b[0m\u001b[0mones\u001b[0m\u001b[0;34m(\u001b[0m\u001b[0mshape\u001b[0m \u001b[0;34m=\u001b[0m \u001b[0;34m(\u001b[0m\u001b[0;36m1000\u001b[0m\u001b[0;34m,\u001b[0m \u001b[0;36m5000\u001b[0m\u001b[0;34m)\u001b[0m\u001b[0;34m,\u001b[0m \u001b[0mctx\u001b[0m\u001b[0;34m=\u001b[0m\u001b[0mmx\u001b[0m\u001b[0;34m.\u001b[0m\u001b[0mgpu\u001b[0m\u001b[0;34m(\u001b[0m\u001b[0;34m)\u001b[0m\u001b[0;34m)\u001b[0m\u001b[0;34m,\u001b[0m \u001b[0mnd\u001b[0m\u001b[0;34m.\u001b[0m\u001b[0mones\u001b[0m\u001b[0;34m(\u001b[0m\u001b[0mshape\u001b[0m \u001b[0;34m=\u001b[0m \u001b[0;34m(\u001b[0m\u001b[0;36m5000\u001b[0m\u001b[0;34m,\u001b[0m \u001b[0;36m10000\u001b[0m\u001b[0;34m)\u001b[0m\u001b[0;34m,\u001b[0m \u001b[0mctx\u001b[0m\u001b[0;34m=\u001b[0m\u001b[0mmx\u001b[0m\u001b[0;34m.\u001b[0m\u001b[0mgpu\u001b[0m\u001b[0;34m(\u001b[0m\u001b[0;34m)\u001b[0m\u001b[0;34m)\u001b[0m  \u001b[0;31m# ToDo : complete\u001b[0m\u001b[0;34m\u001b[0m\u001b[0;34m\u001b[0m\u001b[0m\n\u001b[0m",
            "\u001b[0;32m/usr/local/lib/python3.7/dist-packages/mxnet/ndarray/ndarray.py\u001b[0m in \u001b[0;36mones\u001b[0;34m(shape, ctx, dtype, **kwargs)\u001b[0m\n\u001b[1;32m   3293\u001b[0m     \u001b[0mdtype\u001b[0m \u001b[0;34m=\u001b[0m \u001b[0mmx_real_t\u001b[0m \u001b[0;32mif\u001b[0m \u001b[0mdtype\u001b[0m \u001b[0;32mis\u001b[0m \u001b[0;32mNone\u001b[0m \u001b[0;32melse\u001b[0m \u001b[0mdtype\u001b[0m\u001b[0;34m\u001b[0m\u001b[0;34m\u001b[0m\u001b[0m\n\u001b[1;32m   3294\u001b[0m     \u001b[0;31m# pylint: disable= no-member, protected-access\u001b[0m\u001b[0;34m\u001b[0m\u001b[0;34m\u001b[0m\u001b[0;34m\u001b[0m\u001b[0m\n\u001b[0;32m-> 3295\u001b[0;31m     \u001b[0;32mreturn\u001b[0m \u001b[0m_internal\u001b[0m\u001b[0;34m.\u001b[0m\u001b[0m_ones\u001b[0m\u001b[0;34m(\u001b[0m\u001b[0mshape\u001b[0m\u001b[0;34m=\u001b[0m\u001b[0mshape\u001b[0m\u001b[0;34m,\u001b[0m \u001b[0mctx\u001b[0m\u001b[0;34m=\u001b[0m\u001b[0mctx\u001b[0m\u001b[0;34m,\u001b[0m \u001b[0mdtype\u001b[0m\u001b[0;34m=\u001b[0m\u001b[0mdtype\u001b[0m\u001b[0;34m,\u001b[0m \u001b[0;34m**\u001b[0m\u001b[0mkwargs\u001b[0m\u001b[0;34m)\u001b[0m\u001b[0;34m\u001b[0m\u001b[0;34m\u001b[0m\u001b[0m\n\u001b[0m\u001b[1;32m   3296\u001b[0m     \u001b[0;31m# pylint: enable= no-member, protected-access\u001b[0m\u001b[0;34m\u001b[0m\u001b[0;34m\u001b[0m\u001b[0;34m\u001b[0m\u001b[0m\n\u001b[1;32m   3297\u001b[0m \u001b[0;34m\u001b[0m\u001b[0m\n",
            "\u001b[0;32m/usr/local/lib/python3.7/dist-packages/mxnet/ndarray/register.py\u001b[0m in \u001b[0;36m_ones\u001b[0;34m(shape, ctx, dtype, out, name, **kwargs)\u001b[0m\n",
            "\u001b[0;32m/usr/local/lib/python3.7/dist-packages/mxnet/_ctypes/ndarray.py\u001b[0m in \u001b[0;36m_imperative_invoke\u001b[0;34m(handle, ndargs, keys, vals, out, is_np_op, output_is_list)\u001b[0m\n\u001b[1;32m     89\u001b[0m         \u001b[0mc_str_array\u001b[0m\u001b[0;34m(\u001b[0m\u001b[0mkeys\u001b[0m\u001b[0;34m)\u001b[0m\u001b[0;34m,\u001b[0m\u001b[0;34m\u001b[0m\u001b[0;34m\u001b[0m\u001b[0m\n\u001b[1;32m     90\u001b[0m         \u001b[0mc_str_array\u001b[0m\u001b[0;34m(\u001b[0m\u001b[0;34m[\u001b[0m\u001b[0mstr\u001b[0m\u001b[0;34m(\u001b[0m\u001b[0ms\u001b[0m\u001b[0;34m)\u001b[0m \u001b[0;32mfor\u001b[0m \u001b[0ms\u001b[0m \u001b[0;32min\u001b[0m \u001b[0mvals\u001b[0m\u001b[0;34m]\u001b[0m\u001b[0;34m)\u001b[0m\u001b[0;34m,\u001b[0m\u001b[0;34m\u001b[0m\u001b[0;34m\u001b[0m\u001b[0m\n\u001b[0;32m---> 91\u001b[0;31m         ctypes.byref(out_stypes)))\n\u001b[0m\u001b[1;32m     92\u001b[0m \u001b[0;34m\u001b[0m\u001b[0m\n\u001b[1;32m     93\u001b[0m     \u001b[0mcreate_ndarray_fn\u001b[0m \u001b[0;34m=\u001b[0m \u001b[0m_global_var\u001b[0m\u001b[0;34m.\u001b[0m\u001b[0m_np_ndarray_cls\u001b[0m \u001b[0;32mif\u001b[0m \u001b[0mis_np_op\u001b[0m \u001b[0;32melse\u001b[0m \u001b[0m_global_var\u001b[0m\u001b[0;34m.\u001b[0m\u001b[0m_ndarray_cls\u001b[0m\u001b[0;34m\u001b[0m\u001b[0;34m\u001b[0m\u001b[0m\n",
            "\u001b[0;32m/usr/local/lib/python3.7/dist-packages/mxnet/base.py\u001b[0m in \u001b[0;36mcheck_call\u001b[0;34m(ret)\u001b[0m\n\u001b[1;32m    244\u001b[0m     \"\"\"\n\u001b[1;32m    245\u001b[0m     \u001b[0;32mif\u001b[0m \u001b[0mret\u001b[0m \u001b[0;34m!=\u001b[0m \u001b[0;36m0\u001b[0m\u001b[0;34m:\u001b[0m\u001b[0;34m\u001b[0m\u001b[0;34m\u001b[0m\u001b[0m\n\u001b[0;32m--> 246\u001b[0;31m         \u001b[0;32mraise\u001b[0m \u001b[0mget_last_ffi_error\u001b[0m\u001b[0;34m(\u001b[0m\u001b[0;34m)\u001b[0m\u001b[0;34m\u001b[0m\u001b[0;34m\u001b[0m\u001b[0m\n\u001b[0m\u001b[1;32m    247\u001b[0m \u001b[0;34m\u001b[0m\u001b[0m\n\u001b[1;32m    248\u001b[0m \u001b[0;34m\u001b[0m\u001b[0m\n",
            "\u001b[0;31mMXNetError\u001b[0m: Traceback (most recent call last):\n  File \"src/engine/threaded_engine.cc\", line 331\nMXNetError: Check failed: device_count_ > 0 (-1 vs. 0) : GPU usage requires at least 1 GPU"
          ]
        }
      ]
    },
    {
      "cell_type": "markdown",
      "metadata": {
        "id": "gSEEQ4cU7_2x"
      },
      "source": [
        "Execute as multiplicações e verifique o tempo de execução"
      ]
    },
    {
      "cell_type": "code",
      "metadata": {
        "id": "MNAISEIw8ENJ",
        "colab": {
          "base_uri": "https://localhost:8080/"
        },
        "outputId": "45c00bb9-8ecf-4d4e-dc96-fa3bfb626e76"
      },
      "source": [
        "tic = time.time()\n",
        "np.dot(x_np, y_np)\n",
        "print(\"NumPy time : {:.4f}s\".format(time.time()-tic))"
      ],
      "execution_count": 86,
      "outputs": [
        {
          "output_type": "stream",
          "name": "stdout",
          "text": [
            "NumPy time : 4.4076s\n"
          ]
        }
      ]
    },
    {
      "cell_type": "code",
      "metadata": {
        "id": "OPlH27-28GFG",
        "colab": {
          "base_uri": "https://localhost:8080/"
        },
        "outputId": "db18238d-faa6-41cf-efc7-3a56245cec99"
      },
      "source": [
        "tic = time.time()\n",
        "nd.dot(x_nd_cpu, y_nd_cpu)\n",
        "print(\"MXNet CPU time : {:.4f}s\".format(time.time()-tic))"
      ],
      "execution_count": 87,
      "outputs": [
        {
          "output_type": "stream",
          "name": "stdout",
          "text": [
            "MXNet CPU time : 0.0007s\n"
          ]
        }
      ]
    },
    {
      "cell_type": "code",
      "metadata": {
        "id": "yHuqoLqi8Hrr",
        "colab": {
          "base_uri": "https://localhost:8080/",
          "height": 208
        },
        "outputId": "18cae085-b127-47c0-b6fa-246dcb7ced64"
      },
      "source": [
        "tic = time.time()\n",
        "nd.dot(x_nd_gpu, y_nd_gpu)\n",
        "print(\"MXNet GPU time : {:.4f}s\".format(time.time()-tic))"
      ],
      "execution_count": 88,
      "outputs": [
        {
          "output_type": "error",
          "ename": "NameError",
          "evalue": "ignored",
          "traceback": [
            "\u001b[0;31m---------------------------------------------------------------------------\u001b[0m",
            "\u001b[0;31mNameError\u001b[0m                                 Traceback (most recent call last)",
            "\u001b[0;32m<ipython-input-88-8ae3e59bebc6>\u001b[0m in \u001b[0;36m<module>\u001b[0;34m()\u001b[0m\n\u001b[1;32m      1\u001b[0m \u001b[0mtic\u001b[0m \u001b[0;34m=\u001b[0m \u001b[0mtime\u001b[0m\u001b[0;34m.\u001b[0m\u001b[0mtime\u001b[0m\u001b[0;34m(\u001b[0m\u001b[0;34m)\u001b[0m\u001b[0;34m\u001b[0m\u001b[0;34m\u001b[0m\u001b[0m\n\u001b[0;32m----> 2\u001b[0;31m \u001b[0mnd\u001b[0m\u001b[0;34m.\u001b[0m\u001b[0mdot\u001b[0m\u001b[0;34m(\u001b[0m\u001b[0mx_nd_gpu\u001b[0m\u001b[0;34m,\u001b[0m \u001b[0my_nd_gpu\u001b[0m\u001b[0;34m)\u001b[0m\u001b[0;34m\u001b[0m\u001b[0;34m\u001b[0m\u001b[0m\n\u001b[0m\u001b[1;32m      3\u001b[0m \u001b[0mprint\u001b[0m\u001b[0;34m(\u001b[0m\u001b[0;34m\"MXNet GPU time : {:.4f}s\"\u001b[0m\u001b[0;34m.\u001b[0m\u001b[0mformat\u001b[0m\u001b[0;34m(\u001b[0m\u001b[0mtime\u001b[0m\u001b[0;34m.\u001b[0m\u001b[0mtime\u001b[0m\u001b[0;34m(\u001b[0m\u001b[0;34m)\u001b[0m\u001b[0;34m-\u001b[0m\u001b[0mtic\u001b[0m\u001b[0;34m)\u001b[0m\u001b[0;34m)\u001b[0m\u001b[0;34m\u001b[0m\u001b[0;34m\u001b[0m\u001b[0m\n",
            "\u001b[0;31mNameError\u001b[0m: name 'x_nd_gpu' is not defined"
          ]
        }
      ]
    }
  ]
}